{
 "cells": [
  {
   "cell_type": "code",
   "execution_count": 1,
   "id": "7765bc49",
   "metadata": {},
   "outputs": [],
   "source": [
    "import pandas as pd"
   ]
  },
  {
   "cell_type": "code",
   "execution_count": 7,
   "id": "51403af3",
   "metadata": {
    "collapsed": true
   },
   "outputs": [
    {
     "data": {
      "text/html": [
       "<div>\n",
       "<style scoped>\n",
       "    .dataframe tbody tr th:only-of-type {\n",
       "        vertical-align: middle;\n",
       "    }\n",
       "\n",
       "    .dataframe tbody tr th {\n",
       "        vertical-align: top;\n",
       "    }\n",
       "\n",
       "    .dataframe thead th {\n",
       "        text-align: right;\n",
       "    }\n",
       "</style>\n",
       "<table border=\"1\" class=\"dataframe\">\n",
       "  <thead>\n",
       "    <tr style=\"text-align: right;\">\n",
       "      <th></th>\n",
       "      <th>빅데진로희망</th>\n",
       "      <th>빅데도수</th>\n",
       "    </tr>\n",
       "  </thead>\n",
       "  <tbody>\n",
       "    <tr>\n",
       "      <th>0</th>\n",
       "      <td>빅데이터분석가</td>\n",
       "      <td>6</td>\n",
       "    </tr>\n",
       "    <tr>\n",
       "      <th>1</th>\n",
       "      <td>자영업</td>\n",
       "      <td>7</td>\n",
       "    </tr>\n",
       "    <tr>\n",
       "      <th>2</th>\n",
       "      <td>웹개발자</td>\n",
       "      <td>4</td>\n",
       "    </tr>\n",
       "    <tr>\n",
       "      <th>3</th>\n",
       "      <td>대학원</td>\n",
       "      <td>3</td>\n",
       "    </tr>\n",
       "    <tr>\n",
       "      <th>4</th>\n",
       "      <td>합계</td>\n",
       "      <td>20</td>\n",
       "    </tr>\n",
       "  </tbody>\n",
       "</table>\n",
       "</div>"
      ],
      "text/plain": [
       "    빅데진로희망  빅데도수\n",
       "0  빅데이터분석가     6\n",
       "1      자영업     7\n",
       "2     웹개발자     4\n",
       "3      대학원     3\n",
       "4       합계    20"
      ]
     },
     "execution_count": 7,
     "metadata": {},
     "output_type": "execute_result"
    }
   ],
   "source": [
    "# 인공지능 반과 빅데이터 반에 취업 진로를 데이터 프레임으로 만들어보자\n",
    "# 빅데이터 반\n",
    "df_big = pd.DataFrame([['빅데이터분석가', 6],\n",
    "                     ['자영업', 7],\n",
    "                     ['웹개발자', 4],\n",
    "                     ['대학원', 3],\n",
    "                     ['합계', 20]],\n",
    "                     columns = ['빅데진로희망', '빅데도수'])\n",
    "df_big"
   ]
  },
  {
   "cell_type": "code",
   "execution_count": 8,
   "id": "eeb00472",
   "metadata": {
    "collapsed": true
   },
   "outputs": [
    {
     "data": {
      "text/html": [
       "<div>\n",
       "<style scoped>\n",
       "    .dataframe tbody tr th:only-of-type {\n",
       "        vertical-align: middle;\n",
       "    }\n",
       "\n",
       "    .dataframe tbody tr th {\n",
       "        vertical-align: top;\n",
       "    }\n",
       "\n",
       "    .dataframe thead th {\n",
       "        text-align: right;\n",
       "    }\n",
       "</style>\n",
       "<table border=\"1\" class=\"dataframe\">\n",
       "  <thead>\n",
       "    <tr style=\"text-align: right;\">\n",
       "      <th></th>\n",
       "      <th>인공진로희망</th>\n",
       "      <th>인공도수</th>\n",
       "    </tr>\n",
       "  </thead>\n",
       "  <tbody>\n",
       "    <tr>\n",
       "      <th>0</th>\n",
       "      <td>빅데이터분석가</td>\n",
       "      <td>12</td>\n",
       "    </tr>\n",
       "    <tr>\n",
       "      <th>1</th>\n",
       "      <td>자영업</td>\n",
       "      <td>14</td>\n",
       "    </tr>\n",
       "    <tr>\n",
       "      <th>2</th>\n",
       "      <td>웹개발자</td>\n",
       "      <td>10</td>\n",
       "    </tr>\n",
       "    <tr>\n",
       "      <th>3</th>\n",
       "      <td>대학원</td>\n",
       "      <td>14</td>\n",
       "    </tr>\n",
       "    <tr>\n",
       "      <th>4</th>\n",
       "      <td>합계</td>\n",
       "      <td>50</td>\n",
       "    </tr>\n",
       "  </tbody>\n",
       "</table>\n",
       "</div>"
      ],
      "text/plain": [
       "    인공진로희망  인공도수\n",
       "0  빅데이터분석가    12\n",
       "1      자영업    14\n",
       "2     웹개발자    10\n",
       "3      대학원    14\n",
       "4       합계    50"
      ]
     },
     "execution_count": 8,
     "metadata": {},
     "output_type": "execute_result"
    }
   ],
   "source": [
    "df_ai = pd.DataFrame([['빅데이터분석가', 12],\n",
    "                     ['자영업', 14],\n",
    "                     ['웹개발자', 10],\n",
    "                     ['대학원', 14],\n",
    "                     ['합계', 50]],\n",
    "                     columns = ['인공진로희망', '인공도수'])\n",
    "df_ai"
   ]
  },
  {
   "cell_type": "code",
   "execution_count": 10,
   "id": "0545879d",
   "metadata": {
    "collapsed": true
   },
   "outputs": [
    {
     "data": {
      "text/html": [
       "<div>\n",
       "<style scoped>\n",
       "    .dataframe tbody tr th:only-of-type {\n",
       "        vertical-align: middle;\n",
       "    }\n",
       "\n",
       "    .dataframe tbody tr th {\n",
       "        vertical-align: top;\n",
       "    }\n",
       "\n",
       "    .dataframe thead th {\n",
       "        text-align: right;\n",
       "    }\n",
       "</style>\n",
       "<table border=\"1\" class=\"dataframe\">\n",
       "  <thead>\n",
       "    <tr style=\"text-align: right;\">\n",
       "      <th></th>\n",
       "      <th>빅데진로희망</th>\n",
       "      <th>빅데도수</th>\n",
       "      <th>인공도수</th>\n",
       "    </tr>\n",
       "  </thead>\n",
       "  <tbody>\n",
       "    <tr>\n",
       "      <th>0</th>\n",
       "      <td>빅데이터분석가</td>\n",
       "      <td>6</td>\n",
       "      <td>12</td>\n",
       "    </tr>\n",
       "    <tr>\n",
       "      <th>1</th>\n",
       "      <td>자영업</td>\n",
       "      <td>7</td>\n",
       "      <td>14</td>\n",
       "    </tr>\n",
       "    <tr>\n",
       "      <th>2</th>\n",
       "      <td>웹개발자</td>\n",
       "      <td>4</td>\n",
       "      <td>10</td>\n",
       "    </tr>\n",
       "    <tr>\n",
       "      <th>3</th>\n",
       "      <td>대학원</td>\n",
       "      <td>3</td>\n",
       "      <td>14</td>\n",
       "    </tr>\n",
       "    <tr>\n",
       "      <th>4</th>\n",
       "      <td>합계</td>\n",
       "      <td>20</td>\n",
       "      <td>50</td>\n",
       "    </tr>\n",
       "  </tbody>\n",
       "</table>\n",
       "</div>"
      ],
      "text/plain": [
       "    빅데진로희망  빅데도수  인공도수\n",
       "0  빅데이터분석가     6    12\n",
       "1      자영업     7    14\n",
       "2     웹개발자     4    10\n",
       "3      대학원     3    14\n",
       "4       합계    20    50"
      ]
     },
     "execution_count": 10,
     "metadata": {},
     "output_type": "execute_result"
    }
   ],
   "source": [
    "df_all = pd.concat([df_big, df_ai['인공도수']], axis = 1)\n",
    "df_all"
   ]
  },
  {
   "cell_type": "code",
   "execution_count": null,
   "id": "1ce74b4a",
   "metadata": {},
   "outputs": [],
   "source": [
    "# 도수 : 데이터의 빈도수\n",
    "# 단순하게 도수로만 비교를 한다면 전체 모수가 다를 때 정확한 비교 불가능\n",
    "# 상대도수"
   ]
  },
  {
   "cell_type": "code",
   "execution_count": 17,
   "id": "e06eeeea",
   "metadata": {},
   "outputs": [
    {
     "data": {
      "text/plain": [
       "0    0.30\n",
       "1    0.35\n",
       "2    0.20\n",
       "3    0.15\n",
       "4    1.00\n",
       "Name: 빅데상대도수, dtype: float64"
      ]
     },
     "execution_count": 17,
     "metadata": {},
     "output_type": "execute_result"
    }
   ],
   "source": [
    "big_per = df_all['빅데도수'] / 20\n",
    "big_per.name = '빅데상대도수'\n",
    "big_per"
   ]
  },
  {
   "cell_type": "code",
   "execution_count": 16,
   "id": "3cc19c34",
   "metadata": {
    "collapsed": true
   },
   "outputs": [
    {
     "data": {
      "text/plain": [
       "0    0.24\n",
       "1    0.28\n",
       "2    0.20\n",
       "3    0.28\n",
       "4    1.00\n",
       "Name: 인공상대도수, dtype: float64"
      ]
     },
     "execution_count": 16,
     "metadata": {},
     "output_type": "execute_result"
    }
   ],
   "source": [
    "ai_per = df_all['인공도수'] / 50\n",
    "ai_per.name = '인공상대도수'\n",
    "ai_per"
   ]
  },
  {
   "cell_type": "code",
   "execution_count": 19,
   "id": "c03a0ef6",
   "metadata": {
    "scrolled": true
   },
   "outputs": [
    {
     "data": {
      "text/html": [
       "<div>\n",
       "<style scoped>\n",
       "    .dataframe tbody tr th:only-of-type {\n",
       "        vertical-align: middle;\n",
       "    }\n",
       "\n",
       "    .dataframe tbody tr th {\n",
       "        vertical-align: top;\n",
       "    }\n",
       "\n",
       "    .dataframe thead th {\n",
       "        text-align: right;\n",
       "    }\n",
       "</style>\n",
       "<table border=\"1\" class=\"dataframe\">\n",
       "  <thead>\n",
       "    <tr style=\"text-align: right;\">\n",
       "      <th></th>\n",
       "      <th>빅데진로희망</th>\n",
       "      <th>빅데도수</th>\n",
       "      <th>인공도수</th>\n",
       "      <th>빅데상대도수</th>\n",
       "      <th>인공상대도수</th>\n",
       "    </tr>\n",
       "  </thead>\n",
       "  <tbody>\n",
       "    <tr>\n",
       "      <th>0</th>\n",
       "      <td>빅데이터분석가</td>\n",
       "      <td>6</td>\n",
       "      <td>12</td>\n",
       "      <td>0.30</td>\n",
       "      <td>0.24</td>\n",
       "    </tr>\n",
       "    <tr>\n",
       "      <th>1</th>\n",
       "      <td>자영업</td>\n",
       "      <td>7</td>\n",
       "      <td>14</td>\n",
       "      <td>0.35</td>\n",
       "      <td>0.28</td>\n",
       "    </tr>\n",
       "    <tr>\n",
       "      <th>2</th>\n",
       "      <td>웹개발자</td>\n",
       "      <td>4</td>\n",
       "      <td>10</td>\n",
       "      <td>0.20</td>\n",
       "      <td>0.20</td>\n",
       "    </tr>\n",
       "    <tr>\n",
       "      <th>3</th>\n",
       "      <td>대학원</td>\n",
       "      <td>3</td>\n",
       "      <td>14</td>\n",
       "      <td>0.15</td>\n",
       "      <td>0.28</td>\n",
       "    </tr>\n",
       "    <tr>\n",
       "      <th>4</th>\n",
       "      <td>합계</td>\n",
       "      <td>20</td>\n",
       "      <td>50</td>\n",
       "      <td>1.00</td>\n",
       "      <td>1.00</td>\n",
       "    </tr>\n",
       "  </tbody>\n",
       "</table>\n",
       "</div>"
      ],
      "text/plain": [
       "    빅데진로희망  빅데도수  인공도수  빅데상대도수  인공상대도수\n",
       "0  빅데이터분석가     6    12    0.30    0.24\n",
       "1      자영업     7    14    0.35    0.28\n",
       "2     웹개발자     4    10    0.20    0.20\n",
       "3      대학원     3    14    0.15    0.28\n",
       "4       합계    20    50    1.00    1.00"
      ]
     },
     "execution_count": 19,
     "metadata": {},
     "output_type": "execute_result"
    }
   ],
   "source": [
    "all_df = pd.concat([df_all,big_per,ai_per], axis = 1)\n",
    "all_df"
   ]
  }
 ],
 "metadata": {
  "kernelspec": {
   "display_name": "Python 3 (ipykernel)",
   "language": "python",
   "name": "python3"
  },
  "language_info": {
   "codemirror_mode": {
    "name": "ipython",
    "version": 3
   },
   "file_extension": ".py",
   "mimetype": "text/x-python",
   "name": "python",
   "nbconvert_exporter": "python",
   "pygments_lexer": "ipython3",
   "version": "3.11.5"
  }
 },
 "nbformat": 4,
 "nbformat_minor": 5
}
