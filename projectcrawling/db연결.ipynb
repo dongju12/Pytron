{
 "cells": [
  {
   "cell_type": "code",
   "execution_count": 2,
   "id": "a6e0385f",
   "metadata": {},
   "outputs": [
    {
     "name": "stdout",
     "output_type": "stream",
     "text": [
      "Collecting pymysql\n",
      "  Obtaining dependency information for pymysql from https://files.pythonhosted.org/packages/e5/30/20467e39523d0cfc2b6227902d3687a16364307260c75e6a1cb4422b0c62/PyMySQL-1.1.0-py3-none-any.whl.metadata\n",
      "  Downloading PyMySQL-1.1.0-py3-none-any.whl.metadata (4.4 kB)\n",
      "Downloading PyMySQL-1.1.0-py3-none-any.whl (44 kB)\n",
      "   ---------------------------------------- 0.0/44.8 kB ? eta -:--:--\n",
      "   --------- ------------------------------ 10.2/44.8 kB ? eta -:--:--\n",
      "   ---------------------------------------- 44.8/44.8 kB 750.6 kB/s eta 0:00:00\n",
      "Installing collected packages: pymysql\n",
      "Successfully installed pymysql-1.1.0\n",
      "Note: you may need to restart the kernel to use updated packages.\n"
     ]
    }
   ],
   "source": [
    "pip install pymysql"
   ]
  },
  {
   "cell_type": "code",
   "execution_count": 12,
   "id": "b9d0868c",
   "metadata": {},
   "outputs": [],
   "source": [
    "import pymysql\n",
    "conn = pymysql.connect(host='127.0.0.1', user='root', password='12345', db='exproject', charset='utf8')"
   ]
  },
  {
   "cell_type": "code",
   "execution_count": 13,
   "id": "79c82ba5",
   "metadata": {},
   "outputs": [],
   "source": [
    "cur = conn.cursor()"
   ]
  },
  {
   "cell_type": "code",
   "execution_count": 16,
   "id": "8e662cf6",
   "metadata": {},
   "outputs": [
    {
     "data": {
      "text/plain": [
       "0"
      ]
     },
     "execution_count": 16,
     "metadata": {},
     "output_type": "execute_result"
    }
   ],
   "source": [
    "cur.execute(\"CREATE TABLE userTable (id char(4), userName char(15), email char(20), birthYear int)\" )"
   ]
  },
  {
   "cell_type": "code",
   "execution_count": 17,
   "id": "a22929f2",
   "metadata": {},
   "outputs": [
    {
     "data": {
      "text/plain": [
       "1"
      ]
     },
     "execution_count": 17,
     "metadata": {},
     "output_type": "execute_result"
    }
   ],
   "source": [
    "cur.execute(\"INSERT INTO userTable VALUES('hong', '홍지윤', 'hong@naver.com', 1996)\")\n",
    "cur.execute(\"INSERT INTO userTable VALUES('kim', '김태연', 'kim@daum.com', 2011)\")\n",
    "cur.execute(\"INSERT INTO userTable VALUES('star', '별사랑', 'star@paran.com', 1990)\")\n",
    "cur.execute(\"INSERT INTO userTable VALUES('yang', '양지은', 'yang@gmail.com', 1993)\")"
   ]
  },
  {
   "cell_type": "code",
   "execution_count": 18,
   "id": "c4aaf0c1",
   "metadata": {},
   "outputs": [],
   "source": [
    "conn.commit()"
   ]
  }
 ],
 "metadata": {
  "kernelspec": {
   "display_name": "Python 3 (ipykernel)",
   "language": "python",
   "name": "python3"
  },
  "language_info": {
   "codemirror_mode": {
    "name": "ipython",
    "version": 3
   },
   "file_extension": ".py",
   "mimetype": "text/x-python",
   "name": "python",
   "nbconvert_exporter": "python",
   "pygments_lexer": "ipython3",
   "version": "3.11.5"
  }
 },
 "nbformat": 4,
 "nbformat_minor": 5
}
