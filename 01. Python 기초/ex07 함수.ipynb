{
 "cells": [
  {
   "cell_type": "code",
   "execution_count": 1,
   "id": "039fcb1d",
   "metadata": {},
   "outputs": [],
   "source": [
    "# 예시 함수를 하나 만들어보자\n",
    "def hello(name) :\n",
    "    return f\"{name}씨 안녕하세요\""
   ]
  },
  {
   "cell_type": "code",
   "execution_count": 3,
   "id": "c013f61d",
   "metadata": {},
   "outputs": [
    {
     "data": {
      "text/plain": [
       "'동주씨 안녕하세요'"
      ]
     },
     "execution_count": 3,
     "metadata": {},
     "output_type": "execute_result"
    }
   ],
   "source": [
    "hello('동주')"
   ]
  },
  {
   "cell_type": "code",
   "execution_count": 10,
   "id": "6b3ade00",
   "metadata": {},
   "outputs": [
    {
     "data": {
      "text/plain": [
       "'지금 졸고 있는 상원씨 안녕하세요'"
      ]
     },
     "execution_count": 10,
     "metadata": {},
     "output_type": "execute_result"
    }
   ],
   "source": [
    "hello('지금 졸고 있는 상원')"
   ]
  },
  {
   "cell_type": "code",
   "execution_count": 8,
   "id": "f753d285",
   "metadata": {},
   "outputs": [],
   "source": [
    "def number_sum(num1, num2) :\n",
    "    result = num1 + num2\n",
    "    return result"
   ]
  },
  {
   "cell_type": "code",
   "execution_count": 11,
   "id": "0c932372",
   "metadata": {},
   "outputs": [
    {
     "data": {
      "text/plain": [
       "13"
      ]
     },
     "execution_count": 11,
     "metadata": {},
     "output_type": "execute_result"
    }
   ],
   "source": [
    "number_sum(3,10)"
   ]
  },
  {
   "cell_type": "code",
   "execution_count": 1,
   "id": "59b8351d",
   "metadata": {},
   "outputs": [
    {
     "name": "stdout",
     "output_type": "stream",
     "text": [
      "첫 번째 정수 입력 >> 10\n",
      "두 번째 정수 입력 >> 5\n"
     ]
    },
    {
     "data": {
      "text/plain": [
       "5"
      ]
     },
     "execution_count": 1,
     "metadata": {},
     "output_type": "execute_result"
    }
   ],
   "source": [
    "num1 = int(input(\"첫 번째 정수 입력 >> \"))\n",
    "num2 = int(input(\"두 번째 정수 입력 >> \"))\n",
    "\n",
    "def number_minus(num1, num2) :\n",
    "    result = num1 - num2\n",
    "    return result\n",
    "\n",
    "result = number_minus(num1,num2)\n",
    "result"
   ]
  },
  {
   "cell_type": "code",
   "execution_count": 27,
   "id": "b701c3e7",
   "metadata": {},
   "outputs": [],
   "source": [
    "def cal(num1, num2, op) :\n",
    "    \"\"\" 덧셈과 뺄셈을 해주는 함수 \"\"\"\n",
    "    if op ==\"+\":\n",
    "        result = num1+ num2\n",
    "    elif op =='-':\n",
    "        result = num1 - num2\n",
    "    return result\n"
   ]
  },
  {
   "cell_type": "code",
   "execution_count": 31,
   "id": "bd3d016e",
   "metadata": {},
   "outputs": [
    {
     "name": "stdout",
     "output_type": "stream",
     "text": [
      "첫 번째 정수 입력 >> 10\n",
      "두 번째 정수 입력 >> 5\n",
      "연산자 입력(+,-) >> -\n",
      "결과 : 5\n"
     ]
    }
   ],
   "source": [
    "num1 = int(input(\"첫 번째 정수 입력 >> \"))\n",
    "num2 = int(input(\"두 번째 정수 입력 >> \"))\n",
    "op = input(\"연산자 입력(+,-) >> \")\n",
    "result = cal(num1, num2, op)\n",
    "print(f\"결과 : {result}\")\n"
   ]
  },
  {
   "cell_type": "code",
   "execution_count": 28,
   "id": "f3e34b3b",
   "metadata": {},
   "outputs": [],
   "source": [
    "# 여러 개의 숫자를 받아서 모두 더해주는 함수를 만들어보자\n",
    "def add(*args) :\n",
    "    return sum(args)"
   ]
  },
  {
   "cell_type": "code",
   "execution_count": 30,
   "id": "c94a744e",
   "metadata": {},
   "outputs": [
    {
     "data": {
      "text/plain": [
       "24"
      ]
     },
     "execution_count": 30,
     "metadata": {},
     "output_type": "execute_result"
    }
   ],
   "source": [
    "add(7,8,9)"
   ]
  },
  {
   "cell_type": "code",
   "execution_count": 32,
   "id": "d045603d",
   "metadata": {},
   "outputs": [],
   "source": [
    "def add_sub(num1, num2):\n",
    "    return num1 + num2, num1 - num2"
   ]
  },
  {
   "cell_type": "code",
   "execution_count": 34,
   "id": "f32a532d",
   "metadata": {},
   "outputs": [
    {
     "name": "stdout",
     "output_type": "stream",
     "text": [
      "첫 번째 정수 입력 >> 7\n",
      "두 번째 정수 입력 >> 5\n",
      "결과 : (12, 2)\n"
     ]
    }
   ],
   "source": [
    "num1 = int(input(\"첫 번째 정수 입력 >> \"))\n",
    "num2 = int(input(\"두 번째 정수 입력 >> \"))\n",
    "result = add_sub(num1, num2)\n",
    "print(f\"결과 : {result}\")"
   ]
  },
  {
   "cell_type": "code",
   "execution_count": 36,
   "id": "0cdd8154",
   "metadata": {},
   "outputs": [
    {
     "data": {
      "text/plain": [
       "12"
      ]
     },
     "execution_count": 36,
     "metadata": {},
     "output_type": "execute_result"
    }
   ],
   "source": [
    "# 값을 하나씩 가져오는 방법1 : 인덱싱\n",
    "result[0]"
   ]
  },
  {
   "cell_type": "code",
   "execution_count": 39,
   "id": "0bf42b19",
   "metadata": {},
   "outputs": [
    {
     "name": "stdout",
     "output_type": "stream",
     "text": [
      "8\n",
      "2\n"
     ]
    }
   ],
   "source": [
    "# 값을 하나씩 가져오는 방법2 : 다중 변수 입력\n",
    "result_add, result_minus = add_sub(5,3)\n",
    "print(result_add)\n",
    "print(result_minus)"
   ]
  },
  {
   "cell_type": "code",
   "execution_count": 46,
   "id": "9dc579e4",
   "metadata": {},
   "outputs": [],
   "source": [
    "# 함수 기본값 설정하기\n",
    "def power_of_n(num, power=2) :\n",
    "    return num ** power"
   ]
  },
  {
   "cell_type": "code",
   "execution_count": 51,
   "id": "7c6c95de",
   "metadata": {},
   "outputs": [
    {
     "data": {
      "text/plain": [
       "64"
      ]
     },
     "execution_count": 51,
     "metadata": {},
     "output_type": "execute_result"
    }
   ],
   "source": [
    "power_of_n(4,3)"
   ]
  },
  {
   "cell_type": "code",
   "execution_count": null,
   "id": "cfbbfbda",
   "metadata": {},
   "outputs": [],
   "source": []
  }
 ],
 "metadata": {
  "kernelspec": {
   "display_name": "Python 3 (ipykernel)",
   "language": "python",
   "name": "python3"
  },
  "language_info": {
   "codemirror_mode": {
    "name": "ipython",
    "version": 3
   },
   "file_extension": ".py",
   "mimetype": "text/x-python",
   "name": "python",
   "nbconvert_exporter": "python",
   "pygments_lexer": "ipython3",
   "version": "3.11.5"
  }
 },
 "nbformat": 4,
 "nbformat_minor": 5
}
