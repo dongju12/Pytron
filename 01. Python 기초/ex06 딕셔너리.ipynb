{
 "cells": [
  {
   "cell_type": "code",
   "execution_count": 2,
   "id": "30b2d3da",
   "metadata": {},
   "outputs": [
    {
     "data": {
      "text/plain": [
       "{}"
      ]
     },
     "execution_count": 2,
     "metadata": {},
     "output_type": "execute_result"
    }
   ],
   "source": [
    "# 값이 비어있는 빈 딕셔너리 만들기\n",
    "a = {}\n",
    "a"
   ]
  },
  {
   "cell_type": "code",
   "execution_count": 4,
   "id": "e98044b7",
   "metadata": {},
   "outputs": [
    {
     "data": {
      "text/plain": [
       "{'name': '동주'}"
      ]
     },
     "execution_count": 4,
     "metadata": {},
     "output_type": "execute_result"
    }
   ],
   "source": [
    "b = {'name' : '동주'}\n",
    "b"
   ]
  },
  {
   "cell_type": "code",
   "execution_count": 7,
   "id": "d5c47d38",
   "metadata": {},
   "outputs": [
    {
     "data": {
      "text/plain": [
       "{1: 5, 2: 3}"
      ]
     },
     "execution_count": 7,
     "metadata": {},
     "output_type": "execute_result"
    }
   ],
   "source": [
    "c = {1:5, 2:3}\n",
    "c"
   ]
  },
  {
   "cell_type": "code",
   "execution_count": 10,
   "id": "c841f9af",
   "metadata": {},
   "outputs": [
    {
     "data": {
      "text/plain": [
       "5"
      ]
     },
     "execution_count": 10,
     "metadata": {},
     "output_type": "execute_result"
    }
   ],
   "source": [
    "c[1]"
   ]
  },
  {
   "cell_type": "code",
   "execution_count": 20,
   "id": "890e296d",
   "metadata": {},
   "outputs": [
    {
     "data": {
      "text/plain": [
       "{'name': 'SW', 'age': 26, 'phone': '010-1234-5678'}"
      ]
     },
     "execution_count": 20,
     "metadata": {},
     "output_type": "execute_result"
    }
   ],
   "source": [
    "dic1 = {'name' : 'SW', 'age' : 26, 'phone' : '010-1234-5678'}\n",
    "dic1"
   ]
  },
  {
   "cell_type": "code",
   "execution_count": 25,
   "id": "9f1d38ea",
   "metadata": {},
   "outputs": [
    {
     "data": {
      "text/plain": [
       "{'name': 'SW', 'age': 26, 'phone': '010-1234-5678', 'gender': '12/11'}"
      ]
     },
     "execution_count": 25,
     "metadata": {},
     "output_type": "execute_result"
    }
   ],
   "source": [
    "# 딕셔너리 값 추가해보기\n",
    "# 기존 딕셔너리에 없는 key값ㅇ르 설정해서 value값을 추가하면\n",
    "# 딕셔너리에 값이 추가가 된다\n",
    "dic1['gender'] = '12/11'\n",
    "dic1"
   ]
  },
  {
   "cell_type": "code",
   "execution_count": 30,
   "id": "5241cd1f",
   "metadata": {},
   "outputs": [
    {
     "data": {
      "text/plain": [
       "{'노래제목': '라일락', '가수': '아이유', '날짜': '2021.03.26'}"
      ]
     },
     "execution_count": 30,
     "metadata": {},
     "output_type": "execute_result"
    }
   ],
   "source": [
    "dic_test = {'노래제목' : '라일락'}\n",
    "dic_test['가수'] = '아이유'\n",
    "dic_test['날짜'] = '2021.03.26'\n",
    "dic_test"
   ]
  },
  {
   "cell_type": "code",
   "execution_count": 32,
   "id": "9c9ca096",
   "metadata": {},
   "outputs": [
    {
     "name": "stdout",
     "output_type": "stream",
     "text": [
      "딕셔너리 수정 전 :  {'name': 'SW', 'age': 26, 'phone': '010-1234-5678', 'gender': 'male'}\n",
      "딕셔너리 수정 후 :  {'name': 'SW', 'age': 26, 'phone': '010-1234-5678', 'gender': '남자'}\n"
     ]
    }
   ],
   "source": [
    "# 딕셔너리 수정\n",
    "print('딕셔너리 수정 전 : ', dic1)\n",
    "# 수정해야하는 value의 key를 가져오자\n",
    "dic1['gender'] = '남자'\n",
    "print('딕셔너리 수정 후 : ',dic1)"
   ]
  },
  {
   "cell_type": "markdown",
   "id": "bb6d469c",
   "metadata": {},
   "source": [
    "- dic1['gender'] = '남자'\n",
    "    - 기존에 key값이 없었을 경우 -> 값이 추가된다 \n",
    "    - 기존에 key값이 있었던 경우 -> 값이 수정된다"
   ]
  },
  {
   "cell_type": "code",
   "execution_count": 51,
   "id": "773647a4",
   "metadata": {},
   "outputs": [],
   "source": [
    "# 딕셔너리 값 삭제\n",
    "del dic1['age']"
   ]
  },
  {
   "cell_type": "code",
   "execution_count": 37,
   "id": "114f67a0",
   "metadata": {},
   "outputs": [
    {
     "data": {
      "text/plain": [
       "{'name': 'SW', 'phone': '010-1234-5678', 'gender': '남자'}"
      ]
     },
     "execution_count": 37,
     "metadata": {},
     "output_type": "execute_result"
    }
   ],
   "source": [
    "dic1"
   ]
  },
  {
   "cell_type": "code",
   "execution_count": 40,
   "id": "8d570f41",
   "metadata": {},
   "outputs": [
    {
     "data": {
      "text/plain": [
       "'SW'"
      ]
     },
     "execution_count": 40,
     "metadata": {},
     "output_type": "execute_result"
    }
   ],
   "source": [
    "# 딕셔너리는 순서가 없는 집합 -> 인덱스 번호가 부여 X\n",
    "# 데이터를 가져오기 위해서 기준이 필요하다\n",
    "# 기준은 변하면 안되기에 불변의 값 Key를 사용한다.\n",
    "# 이름을 가져와보자\n",
    "dic1['name']"
   ]
  },
  {
   "cell_type": "code",
   "execution_count": 42,
   "id": "65a0c115",
   "metadata": {},
   "outputs": [
    {
     "data": {
      "text/plain": [
       "'남자'"
      ]
     },
     "execution_count": 42,
     "metadata": {},
     "output_type": "execute_result"
    }
   ],
   "source": [
    "# 성별을 가져와보자\n",
    "dic1['gender']"
   ]
  },
  {
   "cell_type": "code",
   "execution_count": 44,
   "id": "14d05e12",
   "metadata": {},
   "outputs": [
    {
     "data": {
      "text/plain": [
       "'남자'"
      ]
     },
     "execution_count": 44,
     "metadata": {},
     "output_type": "execute_result"
    }
   ],
   "source": [
    "# get 함수 이용\n",
    "dic1.get('gender')"
   ]
  },
  {
   "cell_type": "code",
   "execution_count": 52,
   "id": "bf980d9c",
   "metadata": {},
   "outputs": [
    {
     "ename": "KeyError",
     "evalue": "'age'",
     "output_type": "error",
     "traceback": [
      "\u001b[1;31m---------------------------------------------------------------------------\u001b[0m",
      "\u001b[1;31mKeyError\u001b[0m                                  Traceback (most recent call last)",
      "Cell \u001b[1;32mIn[52], line 4\u001b[0m\n\u001b[0;32m      1\u001b[0m \u001b[38;5;66;03m# 딕셔너리명[key] vs 딕셔너리명.get(key)\u001b[39;00m\n\u001b[0;32m      2\u001b[0m \u001b[38;5;66;03m# 방금전에 삭제한 age를 key값으로 가져오자\u001b[39;00m\n\u001b[1;32m----> 4\u001b[0m dic1[\u001b[38;5;124m'\u001b[39m\u001b[38;5;124mage\u001b[39m\u001b[38;5;124m'\u001b[39m]\n",
      "\u001b[1;31mKeyError\u001b[0m: 'age'"
     ]
    }
   ],
   "source": [
    "# 딕셔너리명[key] vs 딕셔너리명.get(key)\n",
    "# 방금전에 삭제한 age를 key값으로 가져오자\n",
    "\n",
    "dic1['age']"
   ]
  },
  {
   "cell_type": "code",
   "execution_count": 56,
   "id": "2af1795b",
   "metadata": {},
   "outputs": [
    {
     "name": "stdout",
     "output_type": "stream",
     "text": [
      "None\n"
     ]
    }
   ],
   "source": [
    "# 방금전에 삭제한 age를 .get(key)값으로 가져오자\n",
    "print(dic1.get('age'))"
   ]
  },
  {
   "cell_type": "code",
   "execution_count": 58,
   "id": "ce802bb4",
   "metadata": {},
   "outputs": [
    {
     "data": {
      "text/plain": [
       "{'name': 'SW', 'age': 26, 'phone': '010-1234-5678'}"
      ]
     },
     "execution_count": 58,
     "metadata": {},
     "output_type": "execute_result"
    }
   ],
   "source": [
    "dic1 = {'name' : 'SW', 'age' : 26, 'phone' : '010-1234-5678'}\n",
    "dic1"
   ]
  },
  {
   "cell_type": "code",
   "execution_count": 62,
   "id": "dcd2939b",
   "metadata": {},
   "outputs": [
    {
     "data": {
      "text/plain": [
       "dict_keys(['name', 'age', 'phone'])"
      ]
     },
     "execution_count": 62,
     "metadata": {},
     "output_type": "execute_result"
    }
   ],
   "source": [
    "# 딕셔너리의 구조 상 key값만 필요할 때\n",
    "dic1.keys()"
   ]
  },
  {
   "cell_type": "code",
   "execution_count": 64,
   "id": "c77b8949",
   "metadata": {},
   "outputs": [
    {
     "data": {
      "text/plain": [
       "dict_values(['SW', 26, '010-1234-5678'])"
      ]
     },
     "execution_count": 64,
     "metadata": {},
     "output_type": "execute_result"
    }
   ],
   "source": [
    "# 딕셔너리의 구조 상 value값만 필요할 때\n",
    "dic1.values()"
   ]
  },
  {
   "cell_type": "code",
   "execution_count": 88,
   "id": "b384055f",
   "metadata": {},
   "outputs": [
    {
     "data": {
      "text/plain": [
       "{'동주': [26, '010-3515-6943', 178, 75],\n",
       " '규남': [26, '010-1234-1234', 178, 80],\n",
       " '동휘': [26, '010-1234-5678', 180, 68],\n",
       " '은해': [23, '010-2222-2222', 168, 50]}"
      ]
     },
     "execution_count": 88,
     "metadata": {},
     "output_type": "execute_result"
    }
   ],
   "source": [
    "# 딕셔너리 value값에는 리스트 또는 튜플도 들어간다\n",
    "dic2 = {'동주' : [26, '010-3515-6943', 178, 75],\n",
    "       '규남' : [26, '010-1234-1234', 178, 80],\n",
    "       '동휘' : [26, '010-1234-5678', 180, 68],\n",
    "       '은해' : [23, '010-2222-2222', 168, 50]}\n",
    "dic2"
   ]
  },
  {
   "cell_type": "code",
   "execution_count": 74,
   "id": "644bd5dc",
   "metadata": {},
   "outputs": [
    {
     "data": {
      "text/plain": [
       "[26, '010-3515-6943', 178, 75]"
      ]
     },
     "execution_count": 74,
     "metadata": {},
     "output_type": "execute_result"
    }
   ],
   "source": [
    "# value값에 리스트 또는 튜플이 있다면 리스트 / 튜플 전체 가져오기\n",
    "dic2['동주']"
   ]
  },
  {
   "cell_type": "code",
   "execution_count": 75,
   "id": "481bfb09",
   "metadata": {},
   "outputs": [
    {
     "data": {
      "text/plain": [
       "75"
      ]
     },
     "execution_count": 75,
     "metadata": {},
     "output_type": "execute_result"
    }
   ],
   "source": [
    "# 가져온 리스트에서 원하는 정보를 인덱스 번호로 가져올 수 있다\n",
    "dic2['동주'][3]"
   ]
  },
  {
   "cell_type": "code",
   "execution_count": 80,
   "id": "4cd013d5",
   "metadata": {},
   "outputs": [
    {
     "name": "stdout",
     "output_type": "stream",
     "text": [
      "SW\n",
      "26\n",
      "010-1234-5678\n"
     ]
    }
   ],
   "source": [
    "# 반복문을 활용해서 딕셔너리 사용해보기\n",
    "# 값을 이용해서 for문 써보기\n",
    "for value in dic1.values():\n",
    "    print(value)"
   ]
  },
  {
   "cell_type": "code",
   "execution_count": 83,
   "id": "b491eb2d",
   "metadata": {},
   "outputs": [
    {
     "data": {
      "text/plain": [
       "dict_items([('name', 'SW'), ('age', 26), ('phone', '010-1234-5678')])"
      ]
     },
     "execution_count": 83,
     "metadata": {},
     "output_type": "execute_result"
    }
   ],
   "source": [
    "# item : 딕셔너리의 key와 value 모두 가져오는 함수\n",
    "dic1.items()"
   ]
  },
  {
   "cell_type": "code",
   "execution_count": 85,
   "id": "8f8b1fb4",
   "metadata": {},
   "outputs": [
    {
     "name": "stdout",
     "output_type": "stream",
     "text": [
      "name \t SW\n",
      "age \t 26\n",
      "phone \t 010-1234-5678\n"
     ]
    }
   ],
   "source": [
    "for key, value in dic1.items():\n",
    "    print(key, '\\t', value)"
   ]
  },
  {
   "cell_type": "code",
   "execution_count": 92,
   "id": "e6c5841a",
   "metadata": {},
   "outputs": [
    {
     "name": "stdout",
     "output_type": "stream",
     "text": [
      "010-3515-6943\n",
      "010-1234-1234\n",
      "010-1234-5678\n",
      "010-2222-2222\n"
     ]
    }
   ],
   "source": [
    "# 딕셔너리에서 반복문 자주쓸 때\n",
    "for key in dic2.keys() :\n",
    "    print(dic2[key][1])"
   ]
  },
  {
   "cell_type": "code",
   "execution_count": 98,
   "id": "5ad6dcac",
   "metadata": {},
   "outputs": [
    {
     "ename": "IndentationError",
     "evalue": "unexpected indent (479373281.py, line 3)",
     "output_type": "error",
     "traceback": [
      "\u001b[1;36m  Cell \u001b[1;32mIn[98], line 3\u001b[1;36m\u001b[0m\n\u001b[1;33m    in dic1\u001b[0m\n\u001b[1;37m    ^\u001b[0m\n\u001b[1;31mIndentationError\u001b[0m\u001b[1;31m:\u001b[0m unexpected indent\n"
     ]
    }
   ],
   "source": [
    "# 딕셔너리에서 in 함수 사용하는 법\n",
    "# 딕셔너리에서 in 함수는 key에 한해서 작동한다.\n",
    "'010-1234-1234' in dic1"
   ]
  },
  {
   "cell_type": "code",
   "execution_count": 101,
   "id": "3c3e6292",
   "metadata": {},
   "outputs": [
    {
     "name": "stdout",
     "output_type": "stream",
     "text": [
      "{}\n"
     ]
    }
   ],
   "source": [
    "# clear() - 딕셔너리 내부값 초기화\n",
    "dic1.clear()\n",
    "print(dic1)"
   ]
  }
 ],
 "metadata": {
  "kernelspec": {
   "display_name": "Python 3 (ipykernel)",
   "language": "python",
   "name": "python3"
  },
  "language_info": {
   "codemirror_mode": {
    "name": "ipython",
    "version": 3
   },
   "file_extension": ".py",
   "mimetype": "text/x-python",
   "name": "python",
   "nbconvert_exporter": "python",
   "pygments_lexer": "ipython3",
   "version": "3.11.5"
  }
 },
 "nbformat": 4,
 "nbformat_minor": 5
}
