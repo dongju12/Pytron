{
 "cells": [
  {
   "cell_type": "code",
   "execution_count": 1,
   "id": "5f6dc107",
   "metadata": {},
   "outputs": [
    {
     "name": "stdout",
     "output_type": "stream",
     "text": [
      "실행문장 실행\n",
      "if문 밖에 있는 실행문장\n"
     ]
    }
   ],
   "source": [
    "if True :\n",
    "    print(\"실행문장 실행\")\n",
    "print('if문 밖에 있는 실행문장')"
   ]
  },
  {
   "cell_type": "code",
   "execution_count": 2,
   "id": "1d28b618",
   "metadata": {},
   "outputs": [
    {
     "name": "stdout",
     "output_type": "stream",
     "text": [
      "if문 밖에 있는 실행문장\n"
     ]
    }
   ],
   "source": [
    "if False :\n",
    "    print(\"실행문장 실행\")\n",
    "print('if문 밖에 있는 실행문장')"
   ]
  },
  {
   "cell_type": "code",
   "execution_count": 3,
   "id": "291d1ff4",
   "metadata": {},
   "outputs": [
    {
     "name": "stdout",
     "output_type": "stream",
     "text": [
      "돈 입력 >> 100\n",
      "걸어간다\n"
     ]
    }
   ],
   "source": [
    "# 조건문을 이요해서 money라는 변수에 10000원 이상이라면 택시를 탄다.\n",
    "money = int(input('돈 입력 >> '))\n",
    "if money >= 10000 :\n",
    "    print('택시를 탄다')\n",
    "print('걸어간다')    \n"
   ]
  },
  {
   "cell_type": "code",
   "execution_count": 4,
   "id": "35fee165",
   "metadata": {},
   "outputs": [
    {
     "name": "stdout",
     "output_type": "stream",
     "text": [
      "돈 입력 >> 111\n",
      "버스를 탄다\n"
     ]
    }
   ],
   "source": [
    "# 조건문을 이요해서 money라는 변수에 10000원 이상이라면 택시를 탄다.\n",
    "# 만약 money가 10000원 미만이라면 '버스를 탄다' 문구 출력\n",
    "money = input('돈 입력 >> ')\n",
    "# 문자열 쪼개기 - split\n",
    "money = int(money.split('원')[0])\n",
    "\n",
    "if money >= 10000 :\n",
    "    print('택시를 탄다')\n",
    "else : \n",
    "    print('버스를 탄다')  "
   ]
  },
  {
   "cell_type": "code",
   "execution_count": 5,
   "id": "7d600715",
   "metadata": {
    "scrolled": true
   },
   "outputs": [
    {
     "name": "stdout",
     "output_type": "stream",
     "text": [
      "숫자 입력 >> 11\n",
      "3과 5의 배수가 아닙니다.\n"
     ]
    }
   ],
   "source": [
    "num = int(input('숫자 입력 >> '))\n",
    "if (num%3==0) & (num%5==0) :\n",
    "    print('3과 5의 배수입니다.')\n",
    "else :\n",
    "    print('3과 5의 배수가 아닙니다.')    "
   ]
  },
  {
   "cell_type": "code",
   "execution_count": 6,
   "id": "67099ea5",
   "metadata": {},
   "outputs": [
    {
     "name": "stdout",
     "output_type": "stream",
     "text": [
      "마스크 개수 입력 >> 11\n",
      "8개의 포장지 개수 :  1\n",
      "5개의 포장지 개수 :  1\n"
     ]
    }
   ],
   "source": [
    "mask = int(input('마스크 개수 입력 >> '))\n",
    "if mask>=8 :\n",
    "    if(mask%8 == 0) :\n",
    "        print('8개의 포장지 개수 : ',mask//8)\n",
    "        print('5개의 포장지 개수 : ',mask%8//5)\n",
    "    else :\n",
    "        print('8개의 포장지 개수 : ',mask//8)\n",
    "        print('5개의 포장지 개수 : ',mask%8//5+1)\n",
    "else :\n",
    "    print('8개의 포장지 개수 : ',mask//8)\n",
    "    print('5개의 포장지 개수 : ',mask%8//5 +1)    \n",
    "\n"
   ]
  },
  {
   "cell_type": "code",
   "execution_count": 7,
   "id": "4b2a508c",
   "metadata": {},
   "outputs": [
    {
     "name": "stdout",
     "output_type": "stream",
     "text": [
      "첫 번째 정수 입력 >> 1\n",
      "두 번째 정수 입력 >> 2\n",
      "두 번째 정수가 더 큽니다.\n"
     ]
    }
   ],
   "source": [
    "num1 = int(input('첫 번째 정수 입력 >> '))\n",
    "num2 = int(input('두 번째 정수 입력 >> '))\n",
    "if num1 > num2 :\n",
    "    print('첫 번째 정수가 더 큽니다.')\n",
    "elif num1 < num2 :\n",
    "    print('두 번째 정수가 더 큽니다.')\n",
    "else :\n",
    "    print('두 수가 똑같습니다.')"
   ]
  },
  {
   "cell_type": "code",
   "execution_count": 8,
   "id": "3491da7d",
   "metadata": {},
   "outputs": [
    {
     "name": "stdout",
     "output_type": "stream",
     "text": [
      "점수 입력 >> 55\n",
      "55점은 F학점 입니다.\n"
     ]
    }
   ],
   "source": [
    "score =int(input('점수 입력 >> '))\n",
    "if score > 100:\n",
    "    print('점수 잘못 입력했어요')\n",
    "else :\n",
    "    if score >=90 :\n",
    "        grade = 'A'\n",
    "    elif score >= 80:\n",
    "        grade ='B'\n",
    "    elif score >= 70:\n",
    "        grade = 'C'\n",
    "    elif score >= 60:\n",
    "        grade = 'D'\n",
    "    else :\n",
    "        grade = 'F'\n",
    "    \n",
    "print(f'{score}점은 {grade}학점 입니다.')    "
   ]
  },
  {
   "cell_type": "code",
   "execution_count": 9,
   "id": "fce7c626",
   "metadata": {},
   "outputs": [
    {
     "name": "stdout",
     "output_type": "stream",
     "text": [
      "나이 입력 >> 10\n",
      "요금은 1125원 입니다.\n"
     ]
    }
   ],
   "source": [
    "age = int(input('나이 입력 >> '))\n",
    "money = 1500\n",
    "if age < 5 :\n",
    "    money = money//2\n",
    "elif age<20 :\n",
    "    money = round(money * 0.75)\n",
    "elif age >= 65 :\n",
    "    money = round(money * 0.25)\n",
    "else :\n",
    "    money\n",
    "    \n",
    "print(f'요금은 {money}원 입니다.')\n",
    "    "
   ]
  },
  {
   "cell_type": "code",
   "execution_count": 14,
   "id": "7d1f1f55",
   "metadata": {},
   "outputs": [
    {
     "name": "stdout",
     "output_type": "stream",
     "text": [
      "insert coin >> 500\n",
      "잔액 부족\n",
      "잔돈 >> 1000원 4개, 500원 0개, 100원 0개\n"
     ]
    }
   ],
   "source": [
    "coin = int(input('insert coin >> '))\n",
    "\n",
    "if(coin >= 600) :\n",
    "    menu = int(input('메뉴 선택 >> '))\n",
    "    if menu == 1 :\n",
    "       money = coin - 600\n",
    "    elif (menu == 2) & (coin >= 800) :\n",
    "       money = coin -800\n",
    "    elif (menu == 3) & (coin >= 1000):\n",
    "        money = coin - 1000\n",
    "    elif (menu != 3) & (menu != 2) & (menu != 1) :\n",
    "        print('잘못된 메뉴')\n",
    "    else :\n",
    "        print('잔액 부족')\n",
    "else :\n",
    "    print('잔액 부족')\n",
    "        \n",
    "num1 = money//1000\n",
    "num2 = money % 1000 // 500\n",
    "num3 = money % 1000 % 500 // 100\n",
    "        \n",
    "print(f'잔돈 >> 1000원 {num1}개, 500원 {num2}개, 100원 {num3}개')        "
   ]
  },
  {
   "cell_type": "code",
   "execution_count": 16,
   "id": "f5c55aec",
   "metadata": {},
   "outputs": [
    {
     "name": "stdout",
     "output_type": "stream",
     "text": [
      "1. 콜라 : 600원 / 2. 사이다 : 800원 / 물 : 1000원\n",
      "돈을 넣어주세요 >> 700\n",
      "메뉴를 골라주세요 >> 2\n",
      "잔액이 모자랍니다.\n",
      "잔돈 >> 1000원 0개, 500원 1개, 100원 2개\n"
     ]
    }
   ],
   "source": [
    "# 자판기 프로그램 만들어보자\n",
    "change = 0\n",
    "print(\"1. 콜라 : 600원 / 2. 사이다 : 800원 / 물 : 1000원\")\n",
    "money = int(input('돈을 넣어주세요 >> '))\n",
    "menu = int(input('메뉴를 골라주세요 >> '))\n",
    "\n",
    "if menu == 1 :\n",
    "    if money < 600 :\n",
    "        print('잔액이 모자랍니다.')\n",
    "        change = money\n",
    "    else :\n",
    "        change = money - 600\n",
    "elif menu == 2 :\n",
    "    if money < 800 :\n",
    "        print('잔액이 모자랍니다.')\n",
    "        change = money\n",
    "    else :\n",
    "        change = money - 800\n",
    "elif menu == 3 :\n",
    "    if money < 1000 :\n",
    "        print('잔액이 모자랍니다.')\n",
    "        change = money\n",
    "    else :\n",
    "        change = money - 1000        \n",
    "else : \n",
    "    print('잘못된 메뉴입니다.')\n",
    "    change = money\n",
    "    \n",
    "    \n",
    "h = change // 1000\n",
    "f = change % 1000 // 500\n",
    "t = change % 1000 % 500 // 100\n",
    "\n",
    "print(f'잔돈 >> 1000원 {h}개, 500원 {f}개, 100원 {t}개')   "
   ]
  }
 ],
 "metadata": {
  "kernelspec": {
   "display_name": "Python 3 (ipykernel)",
   "language": "python",
   "name": "python3"
  },
  "language_info": {
   "codemirror_mode": {
    "name": "ipython",
    "version": 3
   },
   "file_extension": ".py",
   "mimetype": "text/x-python",
   "name": "python",
   "nbconvert_exporter": "python",
   "pygments_lexer": "ipython3",
   "version": "3.11.5"
  }
 },
 "nbformat": 4,
 "nbformat_minor": 5
}
