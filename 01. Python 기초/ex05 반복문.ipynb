{
 "cells": [
  {
   "cell_type": "code",
   "execution_count": 1,
   "id": "d29f6d0c",
   "metadata": {},
   "outputs": [
    {
     "name": "stdout",
     "output_type": "stream",
     "text": [
      "파이썬 최고!! 1번째\n",
      "파이썬 최고!! 2번째\n",
      "파이썬 최고!! 3번째\n",
      "파이썬 최고!! 4번째\n",
      "파이썬 최고!! 5번째\n",
      "파이썬 최고!! 6번째\n",
      "파이썬 최고!! 7번째\n",
      "파이썬 최고!! 8번째\n",
      "파이썬 최고!! 9번째\n",
      "파이썬 최고!! 10번째\n"
     ]
    }
   ],
   "source": [
    "a = 1\n",
    "while  a <= 10:\n",
    "    print(f\"파이썬 최고!! {a}번째\")\n",
    "    a += 1"
   ]
  },
  {
   "cell_type": "code",
   "execution_count": 2,
   "id": "65226c60",
   "metadata": {},
   "outputs": [
    {
     "name": "stdout",
     "output_type": "stream",
     "text": [
      "무한루프\n"
     ]
    }
   ],
   "source": [
    "while True : \n",
    "    print('무한루프')\n",
    "    break"
   ]
  },
  {
   "cell_type": "code",
   "execution_count": 3,
   "id": "0fdcddb1",
   "metadata": {},
   "outputs": [
    {
     "name": "stdout",
     "output_type": "stream",
     "text": [
      "1\n",
      "2\n",
      "3\n"
     ]
    }
   ],
   "source": [
    "num = 1\n",
    "\n",
    "while True : \n",
    "    print(num)\n",
    "    num += 1\n",
    "    if num > 3 :\n",
    "        break"
   ]
  },
  {
   "cell_type": "code",
   "execution_count": 4,
   "id": "9074e671",
   "metadata": {},
   "outputs": [
    {
     "name": "stdout",
     "output_type": "stream",
     "text": [
      "이름을 입력하세요 >> 강아람\n",
      "아파서 속상해요\n"
     ]
    }
   ],
   "source": [
    "# while문 활용 문제\n",
    "# while문을 활용해서 이름을 입력받고\n",
    "# 입력받은 이름 최고!라고 출력을 해보자\n",
    "# 단, 입력받은 이름이 강아람이면 '아파서 속상해요' 라고 출려갛고 while문을 멈추도록 하자\n",
    "\n",
    "while True :\n",
    "    name = input('이름을 입력하세요 >> ')\n",
    "    if name == '강아람':\n",
    "        print('아파서 속상해요')\n",
    "        break\n",
    "    print(f'{name} 최고!')"
   ]
  },
  {
   "cell_type": "code",
   "execution_count": 5,
   "id": "5f541b8f",
   "metadata": {},
   "outputs": [
    {
     "name": "stdout",
     "output_type": "stream",
     "text": [
      "첫 번째 정수 입력 >> 0\n",
      "두 번째 정수 입력 >> 0\n",
      "프로그램이 종료되었습니다.\n"
     ]
    }
   ],
   "source": [
    "while True :\n",
    "    num1 = int(input('첫 번째 정수 입력 >> '))\n",
    "    num2 = int(input('두 번째 정수 입력 >> '))\n",
    "    if (num1 == 0) & (num2 == 0) :\n",
    "        print('프로그램이 종료되었습니다.')\n",
    "        break\n",
    "    print(f'두 정수의 합 : {num1+num2}')     "
   ]
  },
  {
   "cell_type": "code",
   "execution_count": 6,
   "id": "26d40854",
   "metadata": {},
   "outputs": [
    {
     "name": "stdout",
     "output_type": "stream",
     "text": [
      "현재 몸무게 >> 70\n",
      "목표 몸무게 >> 66\n",
      "1주차 감량 몸무게 >> 5\n",
      "65Kg 달성!! 축하합니다!\n"
     ]
    }
   ],
   "source": [
    "now = int(input('현재 몸무게 >> '))\n",
    "goal = int(input('목표 몸무게 >> '))\n",
    "week = 1\n",
    "while True : \n",
    "    minus = int(input(f'{week}주차 감량 몸무게 >> '))\n",
    "    now -= minus\n",
    "    week += 1\n",
    "    if goal > now :\n",
    "        print(f'{now}Kg 달성!! 축하합니다!')\n",
    "        break"
   ]
  },
  {
   "cell_type": "code",
   "execution_count": 7,
   "id": "07443907",
   "metadata": {},
   "outputs": [
    {
     "name": "stdout",
     "output_type": "stream",
     "text": [
      "숫자를 입력하세요 >> \n"
     ]
    },
    {
     "ename": "ValueError",
     "evalue": "invalid literal for int() with base 10: ''",
     "output_type": "error",
     "traceback": [
      "\u001b[1;31m---------------------------------------------------------------------------\u001b[0m",
      "\u001b[1;31mValueError\u001b[0m                                Traceback (most recent call last)",
      "Cell \u001b[1;32mIn[7], line 6\u001b[0m\n\u001b[0;32m      4\u001b[0m num \u001b[38;5;241m=\u001b[39m random\u001b[38;5;241m.\u001b[39mrandint(\u001b[38;5;241m1\u001b[39m, \u001b[38;5;241m100\u001b[39m)\n\u001b[0;32m      5\u001b[0m \u001b[38;5;28;01mwhile\u001b[39;00m \u001b[38;5;28;01mTrue\u001b[39;00m :\n\u001b[1;32m----> 6\u001b[0m     a \u001b[38;5;241m=\u001b[39m \u001b[38;5;28mint\u001b[39m(\u001b[38;5;28minput\u001b[39m(\u001b[38;5;124m'\u001b[39m\u001b[38;5;124m숫자를 입력하세요 >> \u001b[39m\u001b[38;5;124m'\u001b[39m))\n\u001b[0;32m      8\u001b[0m     \u001b[38;5;28;01mif\u001b[39;00m num \u001b[38;5;241m>\u001b[39m a :\n\u001b[0;32m      9\u001b[0m         \u001b[38;5;28mprint\u001b[39m(\u001b[38;5;124mf\u001b[39m\u001b[38;5;124m'\u001b[39m\u001b[38;5;132;01m{\u001b[39;00ma\u001b[38;5;132;01m}\u001b[39;00m\u001b[38;5;124m보다 큰 수입니다.\u001b[39m\u001b[38;5;124m'\u001b[39m)\n",
      "\u001b[1;31mValueError\u001b[0m: invalid literal for int() with base 10: ''"
     ]
    }
   ],
   "source": [
    "# up down 게임 만들기\n",
    "import random\n",
    "\n",
    "num = random.randint(1, 100)\n",
    "while True :\n",
    "    a = int(input('숫자를 입력하세요 >> '))\n",
    "    \n",
    "    if num > a :\n",
    "        print(f'{a}보다 큰 수입니다.')\n",
    "    elif num < a :\n",
    "        print(f'{a}보다 작은 수입니다.')\n",
    "    else :\n",
    "        print('정답')\n",
    "        break"
   ]
  },
  {
   "cell_type": "code",
   "execution_count": null,
   "id": "31f2f412",
   "metadata": {},
   "outputs": [],
   "source": [
    "hi = \"안녕하세요\"\n",
    "for s in hi :\n",
    "    print(s)"
   ]
  },
  {
   "cell_type": "code",
   "execution_count": null,
   "id": "109b21c8",
   "metadata": {},
   "outputs": [],
   "source": [
    "score_list = [90, 45, 70, 60, 55]\n",
    "num = 1\n",
    "for i in score_list :\n",
    "    if i >= 60 :\n",
    "        print(f'{num}번 학생은 합격입니다.')\n",
    "        num += 1\n",
    "    else :\n",
    "        print(f'{num}번 학생은 불합격입니다.') \n",
    "        num += 1"
   ]
  },
  {
   "cell_type": "code",
   "execution_count": 1,
   "id": "d8f66faa",
   "metadata": {},
   "outputs": [
    {
     "name": "stdout",
     "output_type": "stream",
     "text": [
      "1번은 57점 이며, C등급 입니다.\n",
      "2번은 86점 이며, A등급 입니다.\n",
      "3번은 63점 이며, B등급 입니다.\n",
      "4번은 92점 이며, A등급 입니다.\n",
      "5번은 35점 이며, C등급 입니다.\n",
      "6번은 79점 이며, B등급 입니다.\n"
     ]
    }
   ],
   "source": [
    "python_score = [57,86,63,92,35,79]\n",
    "cnt = 0\n",
    "\n",
    "for i in python_score :\n",
    "    cnt += 1\n",
    "    if i >= 80 :\n",
    "        grade = 'A'\n",
    "    elif i < 60 :\n",
    "        grade = 'C'\n",
    "    else :\n",
    "        grade = 'B'\n",
    "    \n",
    "    print(f'{cnt}번은 {i}점 이며, {grade}등급 입니다.')"
   ]
  },
  {
   "cell_type": "code",
   "execution_count": null,
   "id": "57db8300",
   "metadata": {},
   "outputs": [],
   "source": [
    "for i in range(1, 10, 1):\n",
    "    print(i)"
   ]
  },
  {
   "cell_type": "code",
   "execution_count": null,
   "id": "0db73d64",
   "metadata": {},
   "outputs": [],
   "source": [
    "# print(end = 출력후에 어떤 작업을 할것인가? 옵션지정 , 개행, 띄어쓰기 )\n",
    "for i in range(1, 10, 1):\n",
    "    print(i, end = \" \")"
   ]
  },
  {
   "cell_type": "code",
   "execution_count": null,
   "id": "5bcd15e6",
   "metadata": {},
   "outputs": [],
   "source": [
    "# range 함수의 속성\n",
    "# range(시작값, 끝 값 + , 증감량)\n",
    "# 1. 하나의 값을 생략하는 경우\n",
    "for i in range(1, 10) :\n",
    "    print(i, end = \" \")"
   ]
  },
  {
   "cell_type": "code",
   "execution_count": null,
   "id": "1c9fad8a",
   "metadata": {},
   "outputs": [],
   "source": [
    "# 2. 두개의 값을 생략하는 경우(시작값 생략(기본값 0), 증감량)\n",
    "for i in range(97, 76, -1) :\n",
    "    print(i, end = \" \")"
   ]
  },
  {
   "cell_type": "code",
   "execution_count": null,
   "id": "7e2acc30",
   "metadata": {},
   "outputs": [],
   "source": [
    "for i in range(23, 40, 1) :\n",
    "    print(i, end = \" \")"
   ]
  },
  {
   "cell_type": "code",
   "execution_count": 22,
   "id": "d4648c8e",
   "metadata": {},
   "outputs": [
    {
     "name": "stdout",
     "output_type": "stream",
     "text": [
      "1 2\n",
      "3 4\n",
      "5 6\n"
     ]
    }
   ],
   "source": [
    "# 이차우너 리스트 출력하기\n",
    "list1 = [[1,2],\n",
    "         [3,4],\n",
    "         [5,6]]\n",
    "for i,j in list1 :\n",
    "    print(i,j)"
   ]
  },
  {
   "cell_type": "code",
   "execution_count": null,
   "id": "54afc9dd",
   "metadata": {},
   "outputs": [],
   "source": [
    "list2 = [4,5,2,1,99,15,2,7,27]\n",
    "min = list2[0]\n",
    "for i in list2 :\n",
    "    if i < min :\n",
    "        min = i\n",
    "print(min)"
   ]
  },
  {
   "cell_type": "code",
   "execution_count": null,
   "id": "7470ca68",
   "metadata": {},
   "outputs": [],
   "source": [
    "sum = 0\n",
    "num = int(input('정수 입력 >> '))\n",
    "for i in num :\n",
    "    if(num % i == 0) :\n",
    "        su = i\n",
    "print(f'{num}의 약수 : {su}')     \n",
    "for i in range(0, 101, 3) :\n",
    "    sum += i\n",
    "print(sum) "
   ]
  },
  {
   "cell_type": "code",
   "execution_count": null,
   "id": "4a40eb9f",
   "metadata": {},
   "outputs": [],
   "source": [
    "for i in range(1,10,1) :\n",
    "    print(f'2 * {i} = {2*i}')"
   ]
  },
  {
   "cell_type": "code",
   "execution_count": 21,
   "id": "6e818760",
   "metadata": {},
   "outputs": [
    {
     "name": "stdout",
     "output_type": "stream",
     "text": [
      "정수 입력 >> 48\n",
      "48의 약수 : 1 2 3 4 6 8 12 16 24 48 "
     ]
    }
   ],
   "source": [
    "num = int(input('정수 입력 >> '))\n",
    "\n",
    "print(f'{num}의 약수 :' , end = \" \")  \n",
    "for i in range(1, num+1, 1) :\n",
    "    if(num % i == 0) :\n",
    "        su = i\n",
    "        print(i, end = \" \")\n",
    "      "
   ]
  }
 ],
 "metadata": {
  "kernelspec": {
   "display_name": "Python 3 (ipykernel)",
   "language": "python",
   "name": "python3"
  },
  "language_info": {
   "codemirror_mode": {
    "name": "ipython",
    "version": 3
   },
   "file_extension": ".py",
   "mimetype": "text/x-python",
   "name": "python",
   "nbconvert_exporter": "python",
   "pygments_lexer": "ipython3",
   "version": "3.11.5"
  }
 },
 "nbformat": 4,
 "nbformat_minor": 5
}
