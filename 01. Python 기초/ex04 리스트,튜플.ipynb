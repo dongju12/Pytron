{
 "cells": [
  {
   "cell_type": "code",
   "execution_count": 2,
   "id": "6777fc1d",
   "metadata": {},
   "outputs": [
    {
     "name": "stdout",
     "output_type": "stream",
     "text": [
      "[]\n",
      "[1, 2, 3]\n",
      "['My', 'name', 'is', 'MH']\n",
      "[1, 2, 'My', 'name']\n",
      "[1, 2, ['My', 'name']]\n"
     ]
    }
   ],
   "source": [
    "a = []\n",
    "b = [1,2,3]\n",
    "c = ['My','name','is','MH']\n",
    "d = [1,2,'My','name']\n",
    "e = [1,2,['My','name']]\n",
    "\n",
    "print(a)\n",
    "print(b)\n",
    "print(c)\n",
    "print(d)\n",
    "print(e)"
   ]
  },
  {
   "cell_type": "code",
   "execution_count": 11,
   "id": "cc50097e",
   "metadata": {},
   "outputs": [],
   "source": [
    "# 인덱싱 / 슬라이싱 실습\n",
    "# 1. 내부의 값이 0부터 9까지 있는 리스트를 하나 만들어주세요\n",
    "list1 = [0,1,2,3,4,5,6,7,8,9]"
   ]
  },
  {
   "cell_type": "code",
   "execution_count": 24,
   "id": "6f30d2e4",
   "metadata": {},
   "outputs": [
    {
     "data": {
      "text/plain": [
       "(4, 9, 7)"
      ]
     },
     "execution_count": 24,
     "metadata": {},
     "output_type": "execute_result"
    }
   ],
   "source": [
    "# 인덱싱 문제\n",
    "# 인덱싱을 하는 방법 : 리스트명[가져오고 싶은 자료가 있는 인덱스 번호]\n",
    "# 1-1. 숫자 4를 가져와보자\n",
    "list1[4]\n",
    "# 1-2. 숫자 4,9,7를 가져와보자\n",
    "list1[4], list1[9], list1[7]"
   ]
  },
  {
   "cell_type": "code",
   "execution_count": 25,
   "id": "5cb94267",
   "metadata": {},
   "outputs": [],
   "source": [
    "# 2. 숫자 1,2,3과 ['a','b','b']를 이요해서 2차원 리스트를 만들어보자"
   ]
  },
  {
   "cell_type": "code",
   "execution_count": 32,
   "id": "f92fbb60",
   "metadata": {},
   "outputs": [
    {
     "data": {
      "text/plain": [
       "[1, 2, 3, ['a', 'b', 'c']]"
      ]
     },
     "execution_count": 32,
     "metadata": {},
     "output_type": "execute_result"
    }
   ],
   "source": [
    "list2=[1,2,3,['a','b','c']]\n",
    "list2"
   ]
  },
  {
   "cell_type": "code",
   "execution_count": 41,
   "id": "91d42131",
   "metadata": {},
   "outputs": [
    {
     "data": {
      "text/plain": [
       "'b'"
      ]
     },
     "execution_count": 41,
     "metadata": {},
     "output_type": "execute_result"
    }
   ],
   "source": [
    "# 2-1. temp라는 변수를 지정해서 ['a','b','c']가 들어있는 리스트를 인덱싱 해보자\n",
    "temp = list2[3]\n",
    "temp\n",
    "# 2-2. temp에 저장된 리스트에서 b라는 문자만 인덱싱 해오자\n",
    "temp[1]"
   ]
  },
  {
   "cell_type": "code",
   "execution_count": 43,
   "id": "56157a5e",
   "metadata": {},
   "outputs": [
    {
     "data": {
      "text/plain": [
       "'b'"
      ]
     },
     "execution_count": 43,
     "metadata": {},
     "output_type": "execute_result"
    }
   ],
   "source": [
    "# 2-2. 다른 형태로 b를 출력해보자\n",
    "list2[3][1]"
   ]
  },
  {
   "cell_type": "code",
   "execution_count": 45,
   "id": "3536f8c0",
   "metadata": {},
   "outputs": [
    {
     "data": {
      "text/plain": [
       "[[0, 1, 2, 3], [4, 5, 6, 7], [8, 9, 10, 11], [12, 13, 14, 15]]"
      ]
     },
     "execution_count": 45,
     "metadata": {},
     "output_type": "execute_result"
    }
   ],
   "source": [
    "list3 = [[0,1,2,3],\n",
    "        [4,5,6,7],\n",
    "        [8,9,10,11],\n",
    "        [12,13,14,15]]\n",
    "list3"
   ]
  },
  {
   "cell_type": "code",
   "execution_count": 53,
   "id": "f410d9f4",
   "metadata": {},
   "outputs": [
    {
     "data": {
      "text/plain": [
       "5"
      ]
     },
     "execution_count": 53,
     "metadata": {},
     "output_type": "execute_result"
    }
   ],
   "source": [
    "list3[1][1]"
   ]
  },
  {
   "cell_type": "code",
   "execution_count": 54,
   "id": "c5114b5c",
   "metadata": {},
   "outputs": [],
   "source": [
    "# 리스트 슬라이싱\n",
    "# 슬라이싱 규칙\n",
    "# 1. 인덱스에 숫자는 0부터 시작한다.\n",
    "# 2. 슬라이싱 끝값은 항상 + 1을 해준다"
   ]
  },
  {
   "cell_type": "code",
   "execution_count": 64,
   "id": "7b3d6029",
   "metadata": {},
   "outputs": [
    {
     "data": {
      "text/plain": [
       "[3, 4, 5, 6, 7]"
      ]
     },
     "execution_count": 64,
     "metadata": {},
     "output_type": "execute_result"
    }
   ],
   "source": [
    "# list1에서 3부터 7까지의 숫자를 가져와주세요\n",
    "list1[3:8]"
   ]
  },
  {
   "cell_type": "code",
   "execution_count": 61,
   "id": "9fbdd710",
   "metadata": {},
   "outputs": [
    {
     "data": {
      "text/plain": [
       "[0, 1, 2, 3]"
      ]
     },
     "execution_count": 61,
     "metadata": {},
     "output_type": "execute_result"
    }
   ],
   "source": [
    "# list1에서 0부터 4까지의 숫자를 가져와주세요\n",
    "list1[:5]"
   ]
  },
  {
   "cell_type": "code",
   "execution_count": 63,
   "id": "835348a2",
   "metadata": {},
   "outputs": [
    {
     "data": {
      "text/plain": [
       "[6, 7, 8, 9]"
      ]
     },
     "execution_count": 63,
     "metadata": {},
     "output_type": "execute_result"
    }
   ],
   "source": [
    "# list1에서 6부터 9까지 숫자를 가져와주세요\n",
    "list1[6:]"
   ]
  },
  {
   "cell_type": "code",
   "execution_count": 69,
   "id": "cb84808b",
   "metadata": {},
   "outputs": [
    {
     "data": {
      "text/plain": [
       "[0, 1, 2, 3, 4, 5, 6, 7, 8, 9]"
      ]
     },
     "execution_count": 69,
     "metadata": {},
     "output_type": "execute_result"
    }
   ],
   "source": [
    "# 전체 숫자를 가져와주세요\n",
    "list1"
   ]
  },
  {
   "cell_type": "code",
   "execution_count": 72,
   "id": "292c9055",
   "metadata": {},
   "outputs": [
    {
     "data": {
      "text/plain": [
       "[0, 1, 2, 3, 4, 5, 6, 7, 8, 9, 0, 1, 2, 3, 4, 5, 6, 7, 8, 9]"
      ]
     },
     "execution_count": 72,
     "metadata": {},
     "output_type": "execute_result"
    }
   ],
   "source": [
    "list1 + list1"
   ]
  },
  {
   "cell_type": "code",
   "execution_count": 75,
   "id": "060dfb33",
   "metadata": {},
   "outputs": [
    {
     "data": {
      "text/plain": [
       "[1, 2, 3, 4, 5]"
      ]
     },
     "execution_count": 75,
     "metadata": {},
     "output_type": "execute_result"
    }
   ],
   "source": [
    "# 리스트 맨 뒤에 값을 추가해보자\n",
    "list4 = [1,2,3,4,5]\n",
    "list4"
   ]
  },
  {
   "cell_type": "code",
   "execution_count": 78,
   "id": "d38f6ca3",
   "metadata": {},
   "outputs": [
    {
     "data": {
      "text/plain": [
       "[1, 2, 3, 4, 5, 6, 6, 6]"
      ]
     },
     "execution_count": 78,
     "metadata": {},
     "output_type": "execute_result"
    }
   ],
   "source": [
    "# append(추가해줄 값) : 리스트 맨 뒤에 값을 추가해주는 함수\n",
    "list4.append(6)\n",
    "list4"
   ]
  },
  {
   "cell_type": "code",
   "execution_count": 96,
   "id": "1e75e65d",
   "metadata": {},
   "outputs": [
    {
     "data": {
      "text/plain": [
       "['사과', '오렌지', '수박']"
      ]
     },
     "execution_count": 96,
     "metadata": {},
     "output_type": "execute_result"
    }
   ],
   "source": [
    "# 인덱싱 + append 실습\n",
    "list_ = ['사과','포도',['수박','멜론'],'복숭아','딸기','오렌지']\n",
    "# 뽑아온 과일을 저장할 빈 리스트 만들기\n",
    "choice_list = []\n",
    "# choice_list에 담아줄 과일 인덱싱 해오기\n",
    "a = list_[0]\n",
    "o = list_[5]\n",
    "w = list_[2][0]\n",
    "# choice_list에 쌓아주기\n",
    "choice_list.append(a)\n",
    "choice_list.append(o)\n",
    "choice_list.append(w)\n",
    "\n",
    "choice_list"
   ]
  },
  {
   "cell_type": "code",
   "execution_count": 98,
   "id": "5d5d30ea",
   "metadata": {},
   "outputs": [
    {
     "data": {
      "text/plain": [
       "[0, 1, 2, 3, 4]"
      ]
     },
     "execution_count": 98,
     "metadata": {},
     "output_type": "execute_result"
    }
   ],
   "source": [
    "list5 = [0,1,2,3,4]\n",
    "list5\n"
   ]
  },
  {
   "cell_type": "code",
   "execution_count": 101,
   "id": "16a083cd",
   "metadata": {},
   "outputs": [
    {
     "data": {
      "text/plain": [
       "[0, 5, 5, 1, 5, 2, 3, 4]"
      ]
     },
     "execution_count": 101,
     "metadata": {},
     "output_type": "execute_result"
    }
   ],
   "source": [
    "# insert(인덱스 번호, 넣어줄 값)\n",
    "list5.insert(1,5)\n",
    "list5"
   ]
  },
  {
   "cell_type": "code",
   "execution_count": 120,
   "id": "794aa6d9",
   "metadata": {},
   "outputs": [],
   "source": [
    "# insert 실습\n",
    "music_list = [['디셈버','심'],\n",
    "              ['BMK','물들어'],\n",
    "              ['sg워너비','해바라기']]"
   ]
  },
  {
   "cell_type": "code",
   "execution_count": 121,
   "id": "b011c934",
   "metadata": {},
   "outputs": [
    {
     "data": {
      "text/plain": [
       "[['디셈버', '심'], ['창모', '메테오'], ['BMK', '물들어'], ['sg워너비', '해바라기']]"
      ]
     },
     "execution_count": 121,
     "metadata": {},
     "output_type": "execute_result"
    }
   ],
   "source": [
    "# music_list 인덱스가 1인 곳에 ['창모','메테오'] 추가\n",
    "music_list.insert(1,['창모','메테오'])\n",
    "music_list\n"
   ]
  },
  {
   "cell_type": "code",
   "execution_count": 122,
   "id": "31662fa9",
   "metadata": {},
   "outputs": [
    {
     "data": {
      "text/plain": [
       "[['디셈버', '심'],\n",
       " ['창모', '메테오'],\n",
       " ['BMK', '물들어'],\n",
       " ['장미여관', '퇴근하겠습니다'],\n",
       " ['sg워너비', '해바라기']]"
      ]
     },
     "execution_count": 122,
     "metadata": {},
     "output_type": "execute_result"
    }
   ],
   "source": [
    "# music_list 인덱스가 3인 곳에 ['장미여관','퇴근하겠습니다'] 추가\n",
    "music_list.insert(3,['장미여관','퇴근하겠습니다'])\n",
    "music_list"
   ]
  },
  {
   "cell_type": "code",
   "execution_count": 123,
   "id": "93181c60",
   "metadata": {},
   "outputs": [
    {
     "data": {
      "text/plain": [
       "[['디셈버', '심'],\n",
       " ['창모', '메테오'],\n",
       " ['BMK', '물들어'],\n",
       " ['장미여관', '퇴근하겠습니다'],\n",
       " ['sg워너비', '해바라기'],\n",
       " ['노라조', '니팔자야']]"
      ]
     },
     "execution_count": 123,
     "metadata": {},
     "output_type": "execute_result"
    }
   ],
   "source": [
    "# # music_list 마지막에 ['노라조','니팔자야'] 추가\n",
    "music_list.append(['노라조','니팔자야'])\n",
    "music_list"
   ]
  },
  {
   "cell_type": "code",
   "execution_count": 127,
   "id": "d3166128",
   "metadata": {},
   "outputs": [
    {
     "name": "stdout",
     "output_type": "stream",
     "text": [
      "번호를 입력하세요 >> \n"
     ]
    },
    {
     "ename": "ValueError",
     "evalue": "invalid literal for int() with base 10: ''",
     "output_type": "error",
     "traceback": [
      "\u001b[1;31m---------------------------------------------------------------------------\u001b[0m",
      "\u001b[1;31mValueError\u001b[0m                                Traceback (most recent call last)",
      "Cell \u001b[1;32mIn[127], line 2\u001b[0m\n\u001b[0;32m      1\u001b[0m \u001b[38;5;66;03m# 인덱스 번호(정수형) / 가수명 / 노래 제목 입력받는 입력문 만들기 -> 변수에 저장\u001b[39;00m\n\u001b[1;32m----> 2\u001b[0m num \u001b[38;5;241m=\u001b[39m \u001b[38;5;28mint\u001b[39m(\u001b[38;5;28minput\u001b[39m(\u001b[38;5;124m'\u001b[39m\u001b[38;5;124m번호를 입력하세요 >> \u001b[39m\u001b[38;5;124m'\u001b[39m))\n\u001b[0;32m      3\u001b[0m singer \u001b[38;5;241m=\u001b[39m \u001b[38;5;28minput\u001b[39m(\u001b[38;5;124m'\u001b[39m\u001b[38;5;124m가수명을 적으세요 >>\u001b[39m\u001b[38;5;124m'\u001b[39m)\n\u001b[0;32m      4\u001b[0m title \u001b[38;5;241m=\u001b[39m \u001b[38;5;28minput\u001b[39m(\u001b[38;5;124m'\u001b[39m\u001b[38;5;124m제목을 입력하세요 >> \u001b[39m\u001b[38;5;124m'\u001b[39m)\n",
      "\u001b[1;31mValueError\u001b[0m: invalid literal for int() with base 10: ''"
     ]
    }
   ],
   "source": [
    "# 인덱스 번호(정수형) / 가수명 / 노래 제목 입력받는 입력문 만들기 -> 변수에 저장\n",
    "num = int(input('번호를 입력하세요 >> '))\n",
    "singer = input('가수명을 적으세요 >>')\n",
    "title = input('제목을 입력하세요 >> ')\n",
    "\n",
    "# insert문을 이용해서 music_list에 새로운 값을 추가해주세요\n",
    "music_list.insert(num,[singer,title])\n",
    "music_list\n"
   ]
  },
  {
   "cell_type": "code",
   "execution_count": 133,
   "id": "a746d699",
   "metadata": {},
   "outputs": [
    {
     "name": "stdout",
     "output_type": "stream",
     "text": [
      "수정 전 : 10\n",
      "수정 후 : 10\n"
     ]
    },
    {
     "data": {
      "text/plain": [
       "[0, 1, 2, 3, 4, 10, 6, 7, 8, 9]"
      ]
     },
     "execution_count": 133,
     "metadata": {},
     "output_type": "execute_result"
    }
   ],
   "source": [
    "# 리스트 수정\n",
    "print(f'수정 전 : {list1[5]}')\n",
    "list1[5] = 10\n",
    "print(f'수정 후 : {list1[5]}')\n",
    "list1"
   ]
  },
  {
   "cell_type": "code",
   "execution_count": 137,
   "id": "f2818ee0",
   "metadata": {},
   "outputs": [
    {
     "data": {
      "text/plain": [
       "[0, 1, 2, 10, 10, 10, 10, 7, 8, 9]"
      ]
     },
     "execution_count": 137,
     "metadata": {},
     "output_type": "execute_result"
    }
   ],
   "source": [
    "# 여러개의 값을 바꿔보자 - 슬라이싱을 이용하자\n",
    "list10 = [0, 1, 2, 3, 4, 5, 6, 7, 8, 9]\n",
    "list10[3:7] = [10, 10, 10, 10]\n",
    "list10"
   ]
  },
  {
   "cell_type": "code",
   "execution_count": 149,
   "id": "f04ff2ab",
   "metadata": {},
   "outputs": [
    {
     "data": {
      "text/plain": [
       "['h', 'i', 'j', ['a', 'b', 'c'], 3, 'd', 'e', 'f', 'g']"
      ]
     },
     "execution_count": 149,
     "metadata": {},
     "output_type": "execute_result"
    }
   ],
   "source": [
    "array = [1,2,3,4,5]\n",
    "array[4] = 7\n",
    "array[1] = ['a','b','c']\n",
    "array[3:] = ['d','e','f','g']\n",
    "array[0:1] = ['h','i','j']\n",
    "array"
   ]
  },
  {
   "cell_type": "code",
   "execution_count": 158,
   "id": "14c72362",
   "metadata": {},
   "outputs": [],
   "source": [
    "# 리스트 값 삭제\n",
    "list11 = [0,1,2,3,4,5]"
   ]
  },
  {
   "cell_type": "code",
   "execution_count": 159,
   "id": "7d114eec",
   "metadata": {},
   "outputs": [],
   "source": [
    "# del 키워드 사용\n",
    "del list11[5] # 인덱스 번호 넣어주기"
   ]
  },
  {
   "cell_type": "code",
   "execution_count": 162,
   "id": "a9324d5e",
   "metadata": {},
   "outputs": [
    {
     "data": {
      "text/plain": [
       "[0, 5]"
      ]
     },
     "execution_count": 162,
     "metadata": {},
     "output_type": "execute_result"
    }
   ],
   "source": [
    "# 리스트 값 삭제(여러개의 값)\n",
    "list11 = [0,1,2,3,4,5]\n",
    "del list11[1:5]\n",
    "list11"
   ]
  },
  {
   "cell_type": "code",
   "execution_count": 170,
   "id": "625df092",
   "metadata": {},
   "outputs": [
    {
     "data": {
      "text/plain": [
       "['a', 'b', 'c', 'd', 'e', 'c']"
      ]
     },
     "execution_count": 170,
     "metadata": {},
     "output_type": "execute_result"
    }
   ],
   "source": [
    "# 값을 가지고 삭제 하는 방법 - remove()\n",
    "list12 = ['a','b','c','d','e','c']\n",
    "list12"
   ]
  },
  {
   "cell_type": "code",
   "execution_count": 171,
   "id": "a09caabf",
   "metadata": {},
   "outputs": [],
   "source": [
    "list12.remove('c') # 처음 만나는 해당 값을 지우고 되돌려준다."
   ]
  },
  {
   "cell_type": "code",
   "execution_count": 173,
   "id": "ac85881c",
   "metadata": {},
   "outputs": [
    {
     "data": {
      "text/plain": [
       "['a', 'b', 'd', 'e', 'c']"
      ]
     },
     "execution_count": 173,
     "metadata": {},
     "output_type": "execute_result"
    }
   ],
   "source": [
    "list12"
   ]
  },
  {
   "cell_type": "code",
   "execution_count": 181,
   "id": "5d0f3250",
   "metadata": {},
   "outputs": [
    {
     "data": {
      "text/plain": [
       "[1, 7, 13, 27, 32, 45]"
      ]
     },
     "execution_count": 181,
     "metadata": {},
     "output_type": "execute_result"
    }
   ],
   "source": [
    "# 정렬 - sort() : 오름차순 정렬\n",
    "list13 = [13, 27, 1, 32, 45, 7]\n",
    "list13.sort()\n",
    "list13"
   ]
  },
  {
   "cell_type": "code",
   "execution_count": 177,
   "id": "e37c35e8",
   "metadata": {},
   "outputs": [
    {
     "data": {
      "text/plain": [
       "[7, 45, 32, 1, 27, 13]"
      ]
     },
     "execution_count": 177,
     "metadata": {},
     "output_type": "execute_result"
    }
   ],
   "source": [
    "# 리스트를 반대로 뒤집는 함수 - reverse()\n",
    "list13 = [13, 27, 1, 32, 45, 7]\n",
    "list13.reverse()\n",
    "list13"
   ]
  },
  {
   "cell_type": "code",
   "execution_count": 182,
   "id": "50038994",
   "metadata": {},
   "outputs": [
    {
     "data": {
      "text/plain": [
       "[45, 32, 27, 13, 7, 1]"
      ]
     },
     "execution_count": 182,
     "metadata": {},
     "output_type": "execute_result"
    }
   ],
   "source": [
    "# 내림차순 정렬을 진행해보자\n",
    "list13 = [13, 27, 1, 32, 45, 7]\n",
    "list13.sort(reverse = True)\n",
    "list13"
   ]
  },
  {
   "cell_type": "code",
   "execution_count": 192,
   "id": "be2f9f0b",
   "metadata": {},
   "outputs": [],
   "source": [
    "# 리스트 값 위치 출력 / 제거\n",
    "list14 = ['a','b','c','d','e']"
   ]
  },
  {
   "cell_type": "code",
   "execution_count": 187,
   "id": "c4c5036b",
   "metadata": {},
   "outputs": [
    {
     "data": {
      "text/plain": [
       "2"
      ]
     },
     "execution_count": 187,
     "metadata": {},
     "output_type": "execute_result"
    }
   ],
   "source": [
    "# 리스트 내부에 위치한 자료의 인덱스를 확인한 방법\n",
    "list14.index('c')"
   ]
  },
  {
   "cell_type": "code",
   "execution_count": 193,
   "id": "8ddb1e58",
   "metadata": {},
   "outputs": [
    {
     "data": {
      "text/plain": [
       "'e'"
      ]
     },
     "execution_count": 193,
     "metadata": {},
     "output_type": "execute_result"
    }
   ],
   "source": [
    "# pop() : 마지막 값을 출력 후 리스트에서 제거\n",
    "list14.pop()"
   ]
  },
  {
   "cell_type": "code",
   "execution_count": 195,
   "id": "90960e01",
   "metadata": {},
   "outputs": [
    {
     "data": {
      "text/plain": [
       "['a', 'b', 'c', 'd']"
      ]
     },
     "execution_count": 195,
     "metadata": {},
     "output_type": "execute_result"
    }
   ],
   "source": [
    "list14"
   ]
  },
  {
   "cell_type": "code",
   "execution_count": 198,
   "id": "8336996c",
   "metadata": {},
   "outputs": [
    {
     "data": {
      "text/plain": [
       "4"
      ]
     },
     "execution_count": 198,
     "metadata": {},
     "output_type": "execute_result"
    }
   ],
   "source": [
    "# len(리스트) - 리스트 내부의 값 갯수를 출력할 때 사용\n",
    "# 반복문의 범위를 정하거나 리스트 내부의 데이터 갯수를 체크할 때 사용\n",
    "len(list14)"
   ]
  },
  {
   "cell_type": "code",
   "execution_count": 207,
   "id": "7f799f8f",
   "metadata": {},
   "outputs": [],
   "source": [
    "a = ()\n",
    "b = (1,2,3)\n",
    "c = ('My','name','is','MH')\n",
    "d = (1,2,'My','name')\n",
    "e = (1,2,('My','name'))\n"
   ]
  },
  {
   "cell_type": "code",
   "execution_count": 209,
   "id": "e5045242",
   "metadata": {},
   "outputs": [
    {
     "data": {
      "text/plain": [
       "2"
      ]
     },
     "execution_count": 209,
     "metadata": {},
     "output_type": "execute_result"
    }
   ],
   "source": [
    "b[1]"
   ]
  },
  {
   "cell_type": "code",
   "execution_count": 211,
   "id": "e70fa937",
   "metadata": {},
   "outputs": [
    {
     "data": {
      "text/plain": [
       "(2, 3)"
      ]
     },
     "execution_count": 211,
     "metadata": {},
     "output_type": "execute_result"
    }
   ],
   "source": [
    "b[1:]"
   ]
  },
  {
   "cell_type": "code",
   "execution_count": 213,
   "id": "13a7e62f",
   "metadata": {},
   "outputs": [
    {
     "data": {
      "text/plain": [
       "3"
      ]
     },
     "execution_count": 213,
     "metadata": {},
     "output_type": "execute_result"
    }
   ],
   "source": [
    "len(b)"
   ]
  },
  {
   "cell_type": "code",
   "execution_count": 214,
   "id": "357f7694",
   "metadata": {},
   "outputs": [],
   "source": [
    "# in() - 찾고자 하는 값(x)가 포함되었을 때 포함이 되면 True\n",
    "#      - 아니면 False\n",
    "# not in() - 찾고자 하는 값(x)가 포함되었을 때 포함이 되면 False\n",
    "#      - 아니면 True"
   ]
  },
  {
   "cell_type": "code",
   "execution_count": 215,
   "id": "a0ab89b5",
   "metadata": {},
   "outputs": [],
   "source": [
    "str1 = '마지막 시간입니다. 여러분들 고생하셨어요!'"
   ]
  },
  {
   "cell_type": "code",
   "execution_count": 217,
   "id": "0ce911fb",
   "metadata": {},
   "outputs": [
    {
     "data": {
      "text/plain": [
       "True"
      ]
     },
     "execution_count": 217,
     "metadata": {},
     "output_type": "execute_result"
    }
   ],
   "source": [
    "'마지막' in str1"
   ]
  },
  {
   "cell_type": "code",
   "execution_count": 220,
   "id": "e5140c26",
   "metadata": {},
   "outputs": [
    {
     "data": {
      "text/plain": [
       "False"
      ]
     },
     "execution_count": 220,
     "metadata": {},
     "output_type": "execute_result"
    }
   ],
   "source": [
    "'첫' in str1"
   ]
  },
  {
   "cell_type": "code",
   "execution_count": 226,
   "id": "e115c42d",
   "metadata": {},
   "outputs": [
    {
     "data": {
      "text/plain": [
       "True"
      ]
     },
     "execution_count": 226,
     "metadata": {},
     "output_type": "execute_result"
    }
   ],
   "source": [
    "list13\n",
    "45 in list13"
   ]
  },
  {
   "cell_type": "code",
   "execution_count": 229,
   "id": "3d22fcdf",
   "metadata": {},
   "outputs": [
    {
     "data": {
      "text/plain": [
       "True"
      ]
     },
     "execution_count": 229,
     "metadata": {},
     "output_type": "execute_result"
    }
   ],
   "source": [
    "37 not in list13"
   ]
  },
  {
   "cell_type": "code",
   "execution_count": 1,
   "id": "bd656ca0",
   "metadata": {},
   "outputs": [
    {
     "name": "stdout",
     "output_type": "stream",
     "text": [
      "검색할 문자를 입력하세요 >> is\n",
      "is는 1번 들어있어요!\n"
     ]
    }
   ],
   "source": [
    "# 문자열에 사용자가 입력한 글자가 몇개 포함되어있는지 출력을 해주세요\n",
    "s = 'Hi, my name is dongju'\n",
    "# 입력문 받기\n",
    "a = input('검색할 문자를 입력하세요 >> ')\n",
    "# 우리가 지정한 문장에서 입력받은 글자가 몇개 있는지 체크를 해보자\n",
    "b = s.count(a)\n",
    "a in s\n",
    "if a in s :\n",
    "    print(f'{a}는 {b}번 들어있어요!')\n",
    "else :\n",
    "    print(f'{a}는 없어요..')"
   ]
  },
  {
   "cell_type": "code",
   "execution_count": null,
   "id": "b32ef669",
   "metadata": {},
   "outputs": [],
   "source": []
  }
 ],
 "metadata": {
  "kernelspec": {
   "display_name": "Python 3 (ipykernel)",
   "language": "python",
   "name": "python3"
  },
  "language_info": {
   "codemirror_mode": {
    "name": "ipython",
    "version": 3
   },
   "file_extension": ".py",
   "mimetype": "text/x-python",
   "name": "python",
   "nbconvert_exporter": "python",
   "pygments_lexer": "ipython3",
   "version": "3.11.5"
  }
 },
 "nbformat": 4,
 "nbformat_minor": 5
}
