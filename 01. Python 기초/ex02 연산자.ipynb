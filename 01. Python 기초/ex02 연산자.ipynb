{
 "cells": [
  {
   "cell_type": "code",
   "execution_count": 2,
   "id": "e01b650d",
   "metadata": {},
   "outputs": [
    {
     "name": "stdout",
     "output_type": "stream",
     "text": [
      "1.4285714285714286\n",
      "3\n",
      "1\n"
     ]
    }
   ],
   "source": [
    "num1 = 10\n",
    "num2 = 7\n",
    "print(num1/num2)\n",
    "print(num1%num2)\n",
    "print(num1//num2)"
   ]
  },
  {
   "cell_type": "code",
   "execution_count": 4,
   "id": "6cf2845c",
   "metadata": {},
   "outputs": [
    {
     "data": {
      "text/plain": [
       "'안녕하세요'"
      ]
     },
     "execution_count": 4,
     "metadata": {},
     "output_type": "execute_result"
    }
   ],
   "source": [
    "# 문자열을 더할 수 있다!\n",
    "str1 = '안녕'\n",
    "str2 = '하세요'\n",
    "str1+str2"
   ]
  },
  {
   "cell_type": "code",
   "execution_count": 1,
   "id": "bdaafbb7",
   "metadata": {},
   "outputs": [
    {
     "data": {
      "text/plain": [
       "17"
      ]
     },
     "execution_count": 1,
     "metadata": {},
     "output_type": "execute_result"
    }
   ],
   "source": [
    "str1 = 10\n",
    "str2 = 7\n",
    "str1+str2"
   ]
  },
  {
   "cell_type": "code",
   "execution_count": 13,
   "id": "d35ceffd",
   "metadata": {},
   "outputs": [
    {
     "name": "stdout",
     "output_type": "stream",
     "text": [
      "더하기 결과 : 26\n",
      "빼기 결과 : 20\n",
      "곱하기 결과 :  69\n",
      "나누기 결과 :  7.666666666666667\n"
     ]
    }
   ],
   "source": [
    "num1 = 23\n",
    "num2 = 3\n",
    "print(f'더하기 결과 : {num1 + num2}' )\n",
    "print('빼기 결과 : ' + str(num1 - num2))\n",
    "print('곱하기 결과 : ',(num1*num2))\n",
    "print('나누기 결과 : ', (num1/num2))"
   ]
  },
  {
   "cell_type": "code",
   "execution_count": 22,
   "id": "556ea90f",
   "metadata": {
    "scrolled": true
   },
   "outputs": [
    {
     "name": "stdout",
     "output_type": "stream",
     "text": [
      " 정수를 입력햇주세요 >> 40\n",
      " 정수를 입력햇주세요 >> 5\n",
      "더하기 결과 : 45\n",
      "빼기 결과 : 35\n",
      "곱하기 결과 :  200\n",
      "나누기 결과 :  8.0\n"
     ]
    }
   ],
   "source": [
    "# 입력문을 통해서 num1 과 bum2를 입력 받고 연산 결과를 살펴 봅시다\n",
    "# input( 표시할 문장 )\n",
    "# 숫자 연산을 진행하고 싶으면 형 변환이 필요하다\n",
    "num1 = int(input(\" 정수를 입력햇주세요 >> \"))\n",
    "num2 = int(input(\" 정수를 입력햇주세요 >> \"))\n",
    "print(f'더하기 결과 : {num1 + num2}' )\n",
    "print('빼기 결과 : ' + str(num1 - num2))\n",
    "print('곱하기 결과 : ',(num1*num2))\n",
    "print('나누기 결과 : ', (num1/num2))"
   ]
  },
  {
   "cell_type": "code",
   "execution_count": 23,
   "id": "82cb8dd1",
   "metadata": {},
   "outputs": [
    {
     "name": "stdout",
     "output_type": "stream",
     "text": [
      "python 점수 입력 >> 70\n",
      "머신러닝 점수 입력 >> 80\n",
      "딥러닝 점수 입력 >> 70\n",
      "합계 : 220\n",
      "평균 : 73.33333333333333\n"
     ]
    }
   ],
   "source": [
    "num1 = int(input('python 점수 입력 >> '))\n",
    "num2 = int(input('머신러닝 점수 입력 >> '))\n",
    "num3 = int(input('딥러닝 점수 입력 >> '))\n",
    "print(\"합계 : {}\".format(num1+num2+num3))\n",
    "print(\"평균 : {}\".format((num1+num2+num3)/3))"
   ]
  },
  {
   "cell_type": "code",
   "execution_count": 35,
   "id": "93689741",
   "metadata": {},
   "outputs": [
    {
     "name": "stdout",
     "output_type": "stream",
     "text": [
      "시간 입력 >> 7533\n",
      "2시간 5분 33초\n"
     ]
    }
   ],
   "source": [
    "time = int(input(\"시간 입력 >> \"))\n",
    "hour = time//3600\n",
    "minute = time%3600//60\n",
    "second = time%3600%60%60\n",
    "print(f\"{hour}시간 {minute}분 {second}초\")\n"
   ]
  },
  {
   "cell_type": "code",
   "execution_count": 37,
   "id": "7647a1b6",
   "metadata": {},
   "outputs": [
    {
     "name": "stdout",
     "output_type": "stream",
     "text": [
      "**********\n"
     ]
    }
   ],
   "source": [
    "# 문자열 곱하기\n",
    "s = '*'\n",
    "print(s*10)"
   ]
  },
  {
   "cell_type": "code",
   "execution_count": 40,
   "id": "5acdbad3",
   "metadata": {},
   "outputs": [
    {
     "name": "stdout",
     "output_type": "stream",
     "text": [
      "안녕하세요안녕하세요\n"
     ]
    }
   ],
   "source": [
    "s = '안녕하세요'\n",
    "print(s*2)"
   ]
  },
  {
   "cell_type": "code",
   "execution_count": 43,
   "id": "c98207c2",
   "metadata": {},
   "outputs": [
    {
     "name": "stdout",
     "output_type": "stream",
     "text": [
      "정수 입력 >> 2\n",
      "지수 입력 >> 10\n",
      "2의 10승은 1024입니다. \n"
     ]
    }
   ],
   "source": [
    "# 지수 연산자 문제\n",
    "num = int(input('정수 입력 >> '))\n",
    "power = int(input('지수 입력 >> '))\n",
    "\n",
    "print(f\"{num}의 {power}승은 {num**power}입니다. \")"
   ]
  },
  {
   "cell_type": "code",
   "execution_count": 52,
   "id": "4e8e19e9",
   "metadata": {},
   "outputs": [
    {
     "name": "stdout",
     "output_type": "stream",
     "text": [
      "**********  연산하기  **********\n",
      "정수입력 >> 10\n",
      "정수입력 >> 2\n",
      "+ 연산자 입력 >> +\n",
      "10 + 2 = 12\n"
     ]
    }
   ],
   "source": [
    "s\n",
    "print('*'*10, ' 연산하기 ' , '*'*10)\n",
    "num1 = int(input(\"정수입력 >> \"))\n",
    "num2 = int(input(\"정수입력 >> \"))\n",
    "cal = input(\"+ 연산자 입력 >> \")\n",
    "print(f'{num1} {cal} {num2} = {num1+num2}' )"
   ]
  },
  {
   "cell_type": "code",
   "execution_count": 54,
   "id": "a214a1f1",
   "metadata": {},
   "outputs": [
    {
     "data": {
      "text/plain": [
       "30"
      ]
     },
     "execution_count": 54,
     "metadata": {},
     "output_type": "execute_result"
    }
   ],
   "source": [
    "num=27\n",
    "num += 3\n",
    "num"
   ]
  },
  {
   "cell_type": "code",
   "execution_count": 58,
   "id": "56db8874",
   "metadata": {},
   "outputs": [
    {
     "name": "stdout",
     "output_type": "stream",
     "text": [
      "a :  3\n",
      "b :  7\n"
     ]
    }
   ],
   "source": [
    "# 변수 치환\n",
    "a = 7\n",
    "b = 3\n",
    "\n",
    "temp = a\n",
    "a = b\n",
    "b = temp\n",
    "\n",
    "print(\"a : \", a)\n",
    "print(\"b : \", b)"
   ]
  },
  {
   "cell_type": "code",
   "execution_count": 60,
   "id": "c8125e71",
   "metadata": {},
   "outputs": [
    {
     "name": "stdout",
     "output_type": "stream",
     "text": [
      "a :  3\n",
      "b :  7\n"
     ]
    }
   ],
   "source": [
    "a = 7\n",
    "b = 3\n",
    "\n",
    "a,b = b,a\n",
    "\n",
    "print(\"a : \", a)\n",
    "print(\"b : \", b)"
   ]
  },
  {
   "cell_type": "code",
   "execution_count": 62,
   "id": "d4e209c7",
   "metadata": {},
   "outputs": [
    {
     "name": "stdout",
     "output_type": "stream",
     "text": [
      "False\n",
      "True\n",
      "False\n",
      "True\n"
     ]
    }
   ],
   "source": [
    "a = 3\n",
    "b = 7\n",
    "print(a > b)\n",
    "print(a <= b)\n",
    "print(a == b)\n",
    "print(a != b)\n"
   ]
  },
  {
   "cell_type": "code",
   "execution_count": 65,
   "id": "4e712c89",
   "metadata": {},
   "outputs": [
    {
     "name": "stdout",
     "output_type": "stream",
     "text": [
      "a : 4, b : 10\n",
      "True\n",
      "False\n",
      "False\n",
      "True\n"
     ]
    }
   ],
   "source": [
    "import random\n",
    "# random.randint : 범위내의 값을 랜덤으로 뽑아주는 함수(정수)\n",
    "a = random.randint(1,10)\n",
    "b = random.randint(1,10)\n",
    "print(f\"a : {a}, b : {b}\")\n",
    "\n",
    "print(a < b)\n",
    "print(a > b)\n",
    "print(a == b)\n",
    "print(a != b)"
   ]
  },
  {
   "cell_type": "code",
   "execution_count": 69,
   "id": "a53cfaab",
   "metadata": {},
   "outputs": [
    {
     "data": {
      "text/plain": [
       "'합격'"
      ]
     },
     "execution_count": 69,
     "metadata": {},
     "output_type": "execute_result"
    }
   ],
   "source": [
    "score = 70\n",
    "'합격' if score >= 60 else '불합격'"
   ]
  },
  {
   "cell_type": "code",
   "execution_count": 79,
   "id": "f4b381c3",
   "metadata": {},
   "outputs": [
    {
     "name": "stdout",
     "output_type": "stream",
     "text": [
      "정수입력 >> 4\n",
      "정수입력 >> 5\n"
     ]
    },
    {
     "data": {
      "text/plain": [
       "'b : 5'"
      ]
     },
     "execution_count": 79,
     "metadata": {},
     "output_type": "execute_result"
    }
   ],
   "source": [
    "a = int(input(\"정수입력 >> \"))\n",
    "b = int(input(\"정수입력 >> \"))\n",
    "'a : '+ str(a) if a>b else 'b : '+ str(b)"
   ]
  },
  {
   "cell_type": "code",
   "execution_count": 4,
   "id": "f40d4f94",
   "metadata": {},
   "outputs": [
    {
     "name": "stdout",
     "output_type": "stream",
     "text": [
      "정수 입력 >> 10\n",
      "10는(은) 짝수입니다.\n"
     ]
    }
   ],
   "source": [
    "num = int(input('정수 입력 >> '))\n",
    "print(f'{num}는(은) 홀수입니다.' if num%2==1 else f'{num}는(은) 짝수입니다.')"
   ]
  },
  {
   "cell_type": "code",
   "execution_count": 5,
   "id": "0048c00c",
   "metadata": {},
   "outputs": [
    {
     "name": "stdout",
     "output_type": "stream",
     "text": [
      "첫 번째 정수 입력 >> 10\n",
      "두 번째 정수 입력 >> 5\n",
      "두 수의 차 : 5\n"
     ]
    }
   ],
   "source": [
    "num1 = int(input('첫 번째 정수 입력 >> '))\n",
    "num2 = int(input('두 번째 정수 입력 >> '))\n",
    "print(f'두 수의 차 : {num1-num2}' if num1 > num2 else f'두 수의 차 : {num2-num1}')"
   ]
  },
  {
   "cell_type": "code",
   "execution_count": null,
   "id": "c793e447",
   "metadata": {},
   "outputs": [],
   "source": []
  }
 ],
 "metadata": {
  "kernelspec": {
   "display_name": "Python 3 (ipykernel)",
   "language": "python",
   "name": "python3"
  },
  "language_info": {
   "codemirror_mode": {
    "name": "ipython",
    "version": 3
   },
   "file_extension": ".py",
   "mimetype": "text/x-python",
   "name": "python",
   "nbconvert_exporter": "python",
   "pygments_lexer": "ipython3",
   "version": "3.11.5"
  }
 },
 "nbformat": 4,
 "nbformat_minor": 5
}
