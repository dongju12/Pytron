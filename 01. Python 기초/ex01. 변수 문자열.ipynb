{
 "cells": [
  {
   "cell_type": "code",
   "execution_count": 1,
   "id": "a2a9f004",
   "metadata": {},
   "outputs": [],
   "source": [
    "# 앞의 색이 파란색이면 Conmmend mode (주피터 노트북 제어)\n",
    "# 앞의 색이 노란색이면 Edit mode(코드 작성 및 내용 입력)\n",
    "# 자바에서 주석은 //. 파이썬에서의 주석은 "
   ]
  },
  {
   "cell_type": "code",
   "execution_count": 2,
   "id": "b428eb74",
   "metadata": {},
   "outputs": [],
   "source": [
    "# Commend mode 조작법\n",
    "# 파란 색상일때 b : 아래에 셀 추가\n",
    "# 파란 색상일때 a : 위에 셀 추가\n",
    "# 파란 색상일때 dd : 셀 삭제\n",
    "# 파란 색상일때 ENTER : Edit mode로 전환\n",
    "# 파란 색상일때 x : 셀 잘라내기\n",
    "# 파란 색상일때 v : 셀 붙여넣기"
   ]
  },
  {
   "cell_type": "markdown",
   "id": "a269cdb2",
   "metadata": {},
   "source": [
    "파란 색상일때 m : 마크다운(연습장과 같은 역할)\n",
    "# 제목1\n",
    "## 제목 2\n",
    "### 제목 3\n",
    "- 안녕하세요 오늘 파이썬 처음이시죠\n",
    "    - 앞으로 파이썬도 많이 사랑해주세요\n"
   ]
  },
  {
   "cell_type": "code",
   "execution_count": 3,
   "id": "4139e7ed",
   "metadata": {},
   "outputs": [],
   "source": [
    "# 공통 단축키\n",
    "# ctrl + enter : 현재 셀 실행\n",
    "# shift + enter : 현재 셀 실행후 아래셀로 이동"
   ]
  },
  {
   "cell_type": "code",
   "execution_count": 4,
   "id": "3674bd57",
   "metadata": {},
   "outputs": [],
   "source": [
    "# 만들어볼까요?"
   ]
  },
  {
   "cell_type": "markdown",
   "id": "3e86ff96",
   "metadata": {},
   "source": [
    "### 01변수"
   ]
  },
  {
   "cell_type": "code",
   "execution_count": 5,
   "id": "90e9ad26",
   "metadata": {},
   "outputs": [
    {
     "name": "stdout",
     "output_type": "stream",
     "text": [
      "3\n"
     ]
    }
   ],
   "source": [
    "num = 3\n",
    "print(num)"
   ]
  },
  {
   "cell_type": "code",
   "execution_count": 6,
   "id": "143b23c2",
   "metadata": {},
   "outputs": [
    {
     "name": "stdout",
     "output_type": "stream",
     "text": [
      "13 77\n"
     ]
    }
   ],
   "source": [
    "num1 = 13\n",
    "num2 = 25\n",
    "num2 = 77\n",
    "print(num1, num2)"
   ]
  },
  {
   "cell_type": "code",
   "execution_count": 7,
   "id": "7994993b",
   "metadata": {},
   "outputs": [
    {
     "name": "stdout",
     "output_type": "stream",
     "text": [
      "3.1425 3.12\n"
     ]
    }
   ],
   "source": [
    "num3 = 3.1425\n",
    "num4 = 1.25\n",
    "num4 = 3.12\n",
    "print(num3, num4)"
   ]
  },
  {
   "cell_type": "code",
   "execution_count": 8,
   "id": "b5b8f0c0",
   "metadata": {},
   "outputs": [
    {
     "name": "stdout",
     "output_type": "stream",
     "text": [
      "Funny python Easy python\n"
     ]
    }
   ],
   "source": [
    "str1 = \"Funny python\"\n",
    "str2 = \"Easy python\"\n",
    "print(str1, str2)"
   ]
  },
  {
   "cell_type": "code",
   "execution_count": 9,
   "id": "7904e017",
   "metadata": {},
   "outputs": [
    {
     "data": {
      "text/plain": [
       "['False',\n",
       " 'None',\n",
       " 'True',\n",
       " 'and',\n",
       " 'as',\n",
       " 'assert',\n",
       " 'async',\n",
       " 'await',\n",
       " 'break',\n",
       " 'class',\n",
       " 'continue',\n",
       " 'def',\n",
       " 'del',\n",
       " 'elif',\n",
       " 'else',\n",
       " 'except',\n",
       " 'finally',\n",
       " 'for',\n",
       " 'from',\n",
       " 'global',\n",
       " 'if',\n",
       " 'import',\n",
       " 'in',\n",
       " 'is',\n",
       " 'lambda',\n",
       " 'nonlocal',\n",
       " 'not',\n",
       " 'or',\n",
       " 'pass',\n",
       " 'raise',\n",
       " 'return',\n",
       " 'try',\n",
       " 'while',\n",
       " 'with',\n",
       " 'yield']"
      ]
     },
     "execution_count": 9,
     "metadata": {},
     "output_type": "execute_result"
    }
   ],
   "source": [
    "import keyword\n",
    "keyword.kwlist"
   ]
  },
  {
   "cell_type": "code",
   "execution_count": 10,
   "id": "dd910fe7",
   "metadata": {},
   "outputs": [
    {
     "name": "stdout",
     "output_type": "stream",
     "text": [
      "10\n",
      "15\n"
     ]
    }
   ],
   "source": [
    "a, b= 10, 15\n",
    "print(a)\n",
    "print(b)"
   ]
  },
  {
   "cell_type": "code",
   "execution_count": 11,
   "id": "e1606bc7",
   "metadata": {},
   "outputs": [
    {
     "name": "stdout",
     "output_type": "stream",
     "text": [
      "python python\n"
     ]
    }
   ],
   "source": [
    "str1 = 'python'\n",
    "str2 = 'python'\n",
    "print(str1, str2)"
   ]
  },
  {
   "cell_type": "code",
   "execution_count": 12,
   "id": "fa135beb",
   "metadata": {},
   "outputs": [
    {
     "name": "stdout",
     "output_type": "stream",
     "text": [
      "python\n",
      "python\n"
     ]
    }
   ],
   "source": [
    "str1 = str2 = 'python'\n",
    "print(str1)\n",
    "print(str2)"
   ]
  },
  {
   "cell_type": "code",
   "execution_count": 54,
   "id": "64710618",
   "metadata": {},
   "outputs": [
    {
     "ename": "TypeError",
     "evalue": "'builtin_function_or_method' object is not subscriptable",
     "output_type": "error",
     "traceback": [
      "\u001b[1;31m---------------------------------------------------------------------------\u001b[0m",
      "\u001b[1;31mTypeError\u001b[0m                                 Traceback (most recent call last)",
      "Cell \u001b[1;32mIn[54], line 3\u001b[0m\n\u001b[0;32m      1\u001b[0m x \u001b[38;5;241m=\u001b[39m \u001b[38;5;241m100\u001b[39m\n\u001b[0;32m      2\u001b[0m y \u001b[38;5;241m=\u001b[39m \u001b[38;5;241m200\u001b[39m\n\u001b[1;32m----> 3\u001b[0m \u001b[38;5;28msum\u001b[39m[x,y]\n",
      "\u001b[1;31mTypeError\u001b[0m: 'builtin_function_or_method' object is not subscriptable"
     ]
    }
   ],
   "source": [
    "x = 100\n",
    "y = 200"
   ]
  },
  {
   "cell_type": "code",
   "execution_count": 21,
   "id": "2baf5b67",
   "metadata": {},
   "outputs": [
    {
     "data": {
      "text/plain": [
       "\"she's gone\""
      ]
     },
     "execution_count": 21,
     "metadata": {},
     "output_type": "execute_result"
    }
   ],
   "source": [
    "s = \"she's gone\"\n",
    "s"
   ]
  },
  {
   "cell_type": "code",
   "execution_count": 22,
   "id": "1d721bc4",
   "metadata": {
    "scrolled": true
   },
   "outputs": [
    {
     "name": "stdout",
     "output_type": "stream",
     "text": [
      "여러줄로 구성된 \n",
      "문자열을 하나로 \n",
      "출력하고 싶을 때\n"
     ]
    }
   ],
   "source": [
    "# 여러줄로 구성된 문자열을 변수에 대입하고 싶을때\n",
    "# 여러줄로 구성된\n",
    "# 문자열을 변수에 대입하고 싶을 때\n",
    "# println * 3\n",
    "# \\n(개행 문자)\n",
    "s = \"여러줄로 구성된 \\n문자열을 하나로 \\n출력하고 싶을 때\"\n",
    "print(s)"
   ]
  },
  {
   "cell_type": "code",
   "execution_count": 26,
   "id": "caaf3824",
   "metadata": {},
   "outputs": [
    {
     "name": "stdout",
     "output_type": "stream",
     "text": [
      "여러줄로 구성된 \n",
      "문자열을 하나로 \n",
      "출력하고 싶을 때\n"
     ]
    }
   ],
   "source": [
    "s = \"\"\"여러줄로 구성된 \n",
    "문자열을 하나로 \n",
    "출력하고 싶을 때\"\"\"\n",
    "print(s)"
   ]
  },
  {
   "cell_type": "code",
   "execution_count": 32,
   "id": "4b053c0e",
   "metadata": {
    "scrolled": true
   },
   "outputs": [
    {
     "name": "stdout",
     "output_type": "stream",
     "text": [
      "\n",
      "1교시 : HTML/CSS\n",
      "2교시 : HTML/CSS\n",
      "3교시 : HTML/CSS\n",
      "4교시 : HTML/CSS\n",
      "5교시 : 파이썬 라이브러리\n",
      "6교시 : 파이썬 라이브러리\n",
      "7교시 : 파이썬 라이브러리\n"
     ]
    }
   ],
   "source": [
    "# 문자열 포맷팅\n",
    "# 문자 내부에서 자주 바뀌는 부분을 변수 처리해서 원하는 결과를 출력하는 방법\n",
    "\n",
    "am = 'HTML/CSS'\n",
    "pm = '파이썬 라이브러리'\n",
    "\n",
    "s = f\"\"\"\n",
    "1교시 : {am}\n",
    "2교시 : {am}\n",
    "3교시 : {am}\n",
    "4교시 : {am}\n",
    "5교시 : {pm}\n",
    "6교시 : {pm}\n",
    "7교시 : {pm}\"\"\"\n",
    "print(s)"
   ]
  },
  {
   "cell_type": "markdown",
   "id": "3d66c717",
   "metadata": {},
   "source": [
    "### 인덱싱 / 슬라이싱(1회차)\n",
    "- 인덱싱 : 무엇인가를 '가리킨다'라는 의미\n",
    "- 슬라이싱 : 무엇인가를 '잘라낸다'라는 의미"
   ]
  },
  {
   "cell_type": "code",
   "execution_count": 35,
   "id": "bc81950e",
   "metadata": {},
   "outputs": [
    {
     "data": {
      "text/plain": [
       "'i'"
      ]
     },
     "execution_count": 35,
     "metadata": {},
     "output_type": "execute_result"
    }
   ],
   "source": [
    "s = 'my name is DJ'\n",
    "s[8]"
   ]
  },
  {
   "cell_type": "code",
   "execution_count": 42,
   "id": "b3dad25e",
   "metadata": {},
   "outputs": [
    {
     "name": "stdout",
     "output_type": "stream",
     "text": [
      "D J\n"
     ]
    }
   ],
   "source": [
    "# 문자열 인덱싱 실습\n",
    "# 여러분들의 이름 이니셜에 해당하는 글자를 가져와주세요\n",
    "# ex) my name in DJ -> 'D', 'J'\n",
    "print(s[-2], s[-1])"
   ]
  },
  {
   "cell_type": "code",
   "execution_count": null,
   "id": "669b2e74",
   "metadata": {},
   "outputs": [],
   "source": [
    "# 인덱스의 시작번호는 항상 0부터 시작한다.\n",
    "# 슬라이싱에서 인덱스의 끝 번호는 항상 어떻게 처리한다? +1을 해준다."
   ]
  },
  {
   "cell_type": "code",
   "execution_count": 48,
   "id": "72eb8b39",
   "metadata": {},
   "outputs": [
    {
     "data": {
      "text/plain": [
       "'name'"
      ]
     },
     "execution_count": 48,
     "metadata": {},
     "output_type": "execute_result"
    }
   ],
   "source": [
    "# 인덱싱으로 글자 하나하나 가져오는거 불편하다!\n",
    "# 범위를 정해서 단어를 가져와보자\n",
    "# 데이터 슬라이싱 -> 끝번호는 미포함\n",
    "# s[ 인덱스 시작번호 : 인덱스 끝번호 + 1]\n",
    "s[ 3:7 ]"
   ]
  },
  {
   "cell_type": "code",
   "execution_count": 60,
   "id": "12098a01",
   "metadata": {
    "scrolled": true
   },
   "outputs": [
    {
     "data": {
      "text/plain": [
       "'my'"
      ]
     },
     "execution_count": 60,
     "metadata": {},
     "output_type": "execute_result"
    }
   ],
   "source": [
    "# my를 가져와보자\n",
    "s[0:2]"
   ]
  },
  {
   "cell_type": "code",
   "execution_count": 58,
   "id": "be60c00d",
   "metadata": {},
   "outputs": [
    {
     "data": {
      "text/plain": [
       "'is'"
      ]
     },
     "execution_count": 58,
     "metadata": {},
     "output_type": "execute_result"
    }
   ],
   "source": [
    "# is를 가져와보자\n",
    "s[8:10]"
   ]
  },
  {
   "cell_type": "code",
   "execution_count": 61,
   "id": "6010aabb",
   "metadata": {},
   "outputs": [
    {
     "data": {
      "text/plain": [
       "'DJ'"
      ]
     },
     "execution_count": 61,
     "metadata": {},
     "output_type": "execute_result"
    }
   ],
   "source": [
    "# DJ를 가져와보자\n",
    "s[11:13]"
   ]
  },
  {
   "cell_type": "code",
   "execution_count": 64,
   "id": "1d4e6ebf",
   "metadata": {},
   "outputs": [
    {
     "name": "stdout",
     "output_type": "stream",
     "text": [
      "my name\n",
      "my name\n"
     ]
    }
   ],
   "source": [
    "# 슬라이싱에서 값을 생략하는 것에 대한 의미\n",
    "# 변수[ 시작값 인덱스 : 끝값 인덱스 + 1]\n",
    "# 시작값이 생략되는 경우 -> 데이터의 처음부터(인덱스 번호 0번부터)\n",
    "print(s[0:7])\n",
    "print(s[:7])"
   ]
  },
  {
   "cell_type": "code",
   "execution_count": 65,
   "id": "e34a5aae",
   "metadata": {},
   "outputs": [
    {
     "name": "stdout",
     "output_type": "stream",
     "text": [
      "DJ\n",
      "DJ\n"
     ]
    }
   ],
   "source": [
    "# 끝값이 생략되는 경우 -> 데이터의 끝부분까지(인덱스 번호 마지막까지)\n",
    "print(s[11:13])\n",
    "print(s[11:])"
   ]
  },
  {
   "cell_type": "code",
   "execution_count": 67,
   "id": "65367bca",
   "metadata": {},
   "outputs": [
    {
     "data": {
      "text/plain": [
       "'my name is DJ'"
      ]
     },
     "execution_count": 67,
     "metadata": {},
     "output_type": "execute_result"
    }
   ],
   "source": [
    "# 문자열에 처음부터 끝까지 모든 문자를 가져오고 싶으면 어떻게 해야할까?\n",
    "s[:]"
   ]
  },
  {
   "cell_type": "code",
   "execution_count": 75,
   "id": "984d92f5",
   "metadata": {},
   "outputs": [
    {
     "name": "stdout",
     "output_type": "stream",
     "text": [
      "날짜 : 2020년 3월 3일\n",
      "날씨 : 맑음\n"
     ]
    }
   ],
   "source": [
    "s = \"2020년 3월 3일의 날씨는 맑음입니다.\"\n",
    "print(\"날짜 : \" + s[:11])\n",
    "print(\"날씨 : \" + s[17:19])"
   ]
  },
  {
   "cell_type": "code",
   "execution_count": 79,
   "id": "354c8f48",
   "metadata": {},
   "outputs": [
    {
     "data": {
      "text/plain": [
       "'오늘은 1월 17일 입니다.'"
      ]
     },
     "execution_count": 79,
     "metadata": {},
     "output_type": "execute_result"
    }
   ],
   "source": [
    "# 문자열 포매팅 실습\n",
    "# 문자열 포매팅 : 문자 내부의 특정한 값을 바꿔야 할 경우 사용\n",
    "# 1. %d 포매팅\n",
    "day = 17\n",
    "s = '오늘은 1월 %d일 입니다.' %day\n",
    "s"
   ]
  },
  {
   "cell_type": "code",
   "execution_count": 86,
   "id": "8a953d71",
   "metadata": {},
   "outputs": [
    {
     "data": {
      "text/plain": [
       "'오늘은 3월 18일 입니다.'"
      ]
     },
     "execution_count": 86,
     "metadata": {},
     "output_type": "execute_result"
    }
   ],
   "source": [
    "month = 3\n",
    "day = 18\n",
    "s = '오늘은 %d월 %d일 입니다.' %(month, day)\n",
    "s"
   ]
  },
  {
   "cell_type": "code",
   "execution_count": 90,
   "id": "c28878b6",
   "metadata": {},
   "outputs": [
    {
     "data": {
      "text/plain": [
       "'오늘은 3월 18일 입니다.'"
      ]
     },
     "execution_count": 90,
     "metadata": {},
     "output_type": "execute_result"
    }
   ],
   "source": [
    "# 2. format함수를 이용한 포매팅\n",
    "month = 3\n",
    "day = 18\n",
    "s = '오늘은 {}월 {}일 입니다.' .format(month, day)\n",
    "s"
   ]
  },
  {
   "cell_type": "code",
   "execution_count": 92,
   "id": "b88fce7d",
   "metadata": {},
   "outputs": [
    {
     "data": {
      "text/plain": [
       "'오늘은 3월 18일 입니다.'"
      ]
     },
     "execution_count": 92,
     "metadata": {},
     "output_type": "execute_result"
    }
   ],
   "source": [
    "# 3. f포매팅\n",
    "month = 3\n",
    "day = 18\n",
    "s = f'오늘은 {month}월 {day}일 입니다.' \n",
    "s"
   ]
  },
  {
   "cell_type": "code",
   "execution_count": 94,
   "id": "7245d25d",
   "metadata": {},
   "outputs": [
    {
     "name": "stdout",
     "output_type": "stream",
     "text": [
      "100와 200의 합은 300입니다.\n"
     ]
    }
   ],
   "source": [
    "x =100\n",
    "y = 200\n",
    "sum2 = x+y\n",
    "print(f'{x}와 {y}의 합은 {sum2}입니다.')"
   ]
  },
  {
   "cell_type": "code",
   "execution_count": 98,
   "id": "cf4627d5",
   "metadata": {},
   "outputs": [
    {
     "data": {
      "text/plain": [
       "'안녕하세요'"
      ]
     },
     "execution_count": 98,
     "metadata": {},
     "output_type": "execute_result"
    }
   ],
   "source": [
    "# strip() : 문자의 양쪽 공백을 없애주는 함수\n",
    "s = \"      안녕하세요      \"\n",
    "s.strip()"
   ]
  },
  {
   "cell_type": "code",
   "execution_count": 100,
   "id": "4d197d89",
   "metadata": {},
   "outputs": [
    {
     "data": {
      "text/plain": [
       "'안녕하세요'"
      ]
     },
     "execution_count": 100,
     "metadata": {},
     "output_type": "execute_result"
    }
   ],
   "source": [
    "# replace(기존의 문자, 바꿀 문자)\n",
    "s = '안녕 하세요'\n",
    "s.replace(\" \", \"\")"
   ]
  },
  {
   "cell_type": "code",
   "execution_count": 103,
   "id": "8a7e224a",
   "metadata": {},
   "outputs": [
    {
     "data": {
      "text/plain": [
       "'안녕하세요. 연재씨'"
      ]
     },
     "execution_count": 103,
     "metadata": {},
     "output_type": "execute_result"
    }
   ],
   "source": [
    "s = \"안녕하세요. 상원씨\"\n",
    "s.replace(\"상원\", \"연재\")"
   ]
  },
  {
   "cell_type": "code",
   "execution_count": 105,
   "id": "50d7310f",
   "metadata": {},
   "outputs": [
    {
     "data": {
      "text/plain": [
       "['우석', '우건', '준범', '동완']"
      ]
     },
     "execution_count": 105,
     "metadata": {},
     "output_type": "execute_result"
    }
   ],
   "source": [
    "# split()\n",
    "s = \"우석,우건,준범,동완\"\n",
    "s.split(\",\")"
   ]
  }
 ],
 "metadata": {
  "kernelspec": {
   "display_name": "Python 3 (ipykernel)",
   "language": "python",
   "name": "python3"
  },
  "language_info": {
   "codemirror_mode": {
    "name": "ipython",
    "version": 3
   },
   "file_extension": ".py",
   "mimetype": "text/x-python",
   "name": "python",
   "nbconvert_exporter": "python",
   "pygments_lexer": "ipython3",
   "version": "3.11.5"
  }
 },
 "nbformat": 4,
 "nbformat_minor": 5
}
